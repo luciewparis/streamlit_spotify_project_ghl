{
 "cells": [
  {
   "cell_type": "code",
   "execution_count": 147,
   "metadata": {},
   "outputs": [],
   "source": [
    "import requests\n",
    "import os\n",
    "import pandas as pd\n",
    "\n",
    "TOKEN_URL = 'https://accounts.spotify.com/api/token'\n",
    "BASE_URL = 'https://api.spotify.com/v1/'"
   ]
  },
  {
   "cell_type": "markdown",
   "metadata": {},
   "source": [
    "# 1. Retrieve access token and call Spotify API"
   ]
  },
  {
   "cell_type": "code",
   "execution_count": 148,
   "metadata": {},
   "outputs": [
    {
     "data": {
      "text/plain": [
       "environ{'USER': 'lucie_unix',\n",
       "        'VSCODE_WSL_EXT_LOCATION': '/mnt/c/Users/Lucie/.vscode/extensions/ms-vscode-remote.remote-wsl-0.88.5',\n",
       "        'SHLVL': '0',\n",
       "        'HOME': '/home/lucie_unix',\n",
       "        'OLDPWD': '/mnt/c/Users/Lucie/AppData/Local/Programs/Microsoft VS Code',\n",
       "        'DBUS_SESSION_BUS_ADDRESS': 'unix:path=/run/user/1000/bus',\n",
       "        'WSL_DISTRO_NAME': 'Ubuntu',\n",
       "        'WAYLAND_DISPLAY': 'wayland-0',\n",
       "        'LOGNAME': 'lucie_unix',\n",
       "        'PULSE_SERVER': 'unix:/mnt/wslg/PulseServer',\n",
       "        'WSL_INTEROP': '/run/WSL/724_interop',\n",
       "        'NAME': 'DESKTOP-NMM1P6P',\n",
       "        '_': '/home/lucie_unix/.pyenv/versions/3.10.12/envs/Artefact/bin/python',\n",
       "        'TERM': 'xterm-color',\n",
       "        'PATH': '/home/lucie_unix/.pyenv/versions/Artefact/bin:/home/lucie_unix/.pyenv/versions/3.10.12/envs/Artefact/bin:/home/lucie_unix/.vscode-server/bin/e54c774e0add60467559eb0d1e229c6452cf8447/bin/remote-cli:/home/lucie_unix/.pyenv/plugins/pyenv-virtualenv/shims:/home/lucie_unix/.pyenv/shims:/home/lucie_unix/.pyenv/bin:/usr/local/sbin:/usr/local/bin:/usr/sbin:/usr/bin:/sbin:/bin:/usr/games:/usr/local/games:/usr/lib/wsl/lib:/mnt/c/WINDOWS/system32:/mnt/c/WINDOWS:/mnt/c/WINDOWS/System32/Wbem:/mnt/c/WINDOWS/System32/WindowsPowerShell/v1.0/:/mnt/c/WINDOWS/System32/OpenSSH/:/mnt/c/Users/Lucie/AppData/Local/Microsoft/WindowsApps:/mnt/c/Users/Lucie/AppData/Local/Programs/Microsoft VS Code/bin',\n",
       "        'XDG_RUNTIME_DIR': '/run/user/1000/',\n",
       "        'DISPLAY': ':0',\n",
       "        'LANG': 'en_US.UTF-8',\n",
       "        'SHELL': '/usr/bin/zsh',\n",
       "        'VSCODE_SERVER_TAR': '/mnt/c/Users/Lucie/vscode-remote-wsl/stable/e54c774e0add60467559eb0d1e229c6452cf8447/vscode-server-stable-linux-x64.tar.gz',\n",
       "        'PWD': '/mnt/c/Users/Lucie/AppData/Local/Programs/Microsoft VS Code',\n",
       "        'HOSTTYPE': 'x86_64',\n",
       "        'WSL2_GUI_APPS_ENABLED': '1',\n",
       "        'WSLENV': 'VSCODE_WSL_EXT_LOCATION/up:VSCODE_SERVER_TAR/up',\n",
       "        'VSCODE_CWD': '/mnt/c/Users/Lucie/AppData/Local/Programs/Microsoft VS Code',\n",
       "        'VSCODE_NLS_CONFIG': '{\"userLocale\":\"en\",\"osLocale\":\"en\",\"resolvedLanguage\":\"en\",\"defaultMessagesFile\":\"/home/lucie_unix/.vscode-server/bin/e54c774e0add60467559eb0d1e229c6452cf8447/out/nls.messages.json\",\"locale\":\"en\",\"availableLanguages\":{}}',\n",
       "        'VSCODE_HANDLES_SIGPIPE': 'true',\n",
       "        'PYENV_ROOT': '/home/lucie_unix/.pyenv',\n",
       "        'HOMEBREW_NO_ANALYTICS': '1',\n",
       "        'PAGER': 'cat',\n",
       "        'LESS': '-R',\n",
       "        'LSCOLORS': 'Gxfxcxdxbxegedabagacad',\n",
       "        'LS_COLORS': 'rs=0:di=01;34:ln=01;36:mh=00:pi=40;33:so=01;35:do=01;35:bd=40;33;01:cd=40;33;01:or=40;31;01:mi=00:su=37;41:sg=30;43:ca=00:tw=30;42:ow=34;42:st=37;44:ex=01;32:*.tar=01;31:*.tgz=01;31:*.arc=01;31:*.arj=01;31:*.taz=01;31:*.lha=01;31:*.lz4=01;31:*.lzh=01;31:*.lzma=01;31:*.tlz=01;31:*.txz=01;31:*.tzo=01;31:*.t7z=01;31:*.zip=01;31:*.z=01;31:*.dz=01;31:*.gz=01;31:*.lrz=01;31:*.lz=01;31:*.lzo=01;31:*.xz=01;31:*.zst=01;31:*.tzst=01;31:*.bz2=01;31:*.bz=01;31:*.tbz=01;31:*.tbz2=01;31:*.tz=01;31:*.deb=01;31:*.rpm=01;31:*.jar=01;31:*.war=01;31:*.ear=01;31:*.sar=01;31:*.rar=01;31:*.alz=01;31:*.ace=01;31:*.zoo=01;31:*.cpio=01;31:*.7z=01;31:*.rz=01;31:*.cab=01;31:*.wim=01;31:*.swm=01;31:*.dwm=01;31:*.esd=01;31:*.avif=01;35:*.jpg=01;35:*.jpeg=01;35:*.mjpg=01;35:*.mjpeg=01;35:*.gif=01;35:*.bmp=01;35:*.pbm=01;35:*.pgm=01;35:*.ppm=01;35:*.tga=01;35:*.xbm=01;35:*.xpm=01;35:*.tif=01;35:*.tiff=01;35:*.png=01;35:*.svg=01;35:*.svgz=01;35:*.mng=01;35:*.pcx=01;35:*.mov=01;35:*.mpg=01;35:*.mpeg=01;35:*.m2v=01;35:*.mkv=01;35:*.webm=01;35:*.webp=01;35:*.ogm=01;35:*.mp4=01;35:*.m4v=01;35:*.mp4v=01;35:*.vob=01;35:*.qt=01;35:*.nuv=01;35:*.wmv=01;35:*.asf=01;35:*.rm=01;35:*.rmvb=01;35:*.flc=01;35:*.avi=01;35:*.fli=01;35:*.flv=01;35:*.gl=01;35:*.dl=01;35:*.xcf=01;35:*.xwd=01;35:*.yuv=01;35:*.cgm=01;35:*.emf=01;35:*.ogv=01;35:*.ogx=01;35:*.aac=00;36:*.au=00;36:*.flac=00;36:*.m4a=00;36:*.mid=00;36:*.midi=00;36:*.mka=00;36:*.mp3=00;36:*.mpc=00;36:*.ogg=00;36:*.ra=00;36:*.wav=00;36:*.oga=00;36:*.opus=00;36:*.spx=00;36:*.xspf=00;36:*~=00;90:*#=00;90:*.bak=00;90:*.crdownload=00;90:*.dpkg-dist=00;90:*.dpkg-new=00;90:*.dpkg-old=00;90:*.dpkg-tmp=00;90:*.old=00;90:*.orig=00;90:*.part=00;90:*.rej=00;90:*.rpmnew=00;90:*.rpmorig=00;90:*.rpmsave=00;90:*.swp=00;90:*.tmp=00;90:*.ucf-dist=00;90:*.ucf-new=00;90:*.ucf-old=00;90:',\n",
       "        'PYENV_VIRTUALENV_DISABLE_PROMPT': '1',\n",
       "        'PYENV_SHELL': 'zsh',\n",
       "        'PYENV_VIRTUALENV_INIT': '1',\n",
       "        'LC_ALL': 'en_US.UTF-8',\n",
       "        'BUNDLER_EDITOR': 'code',\n",
       "        'EDITOR': 'code',\n",
       "        'PYTHONBREAKPOINT': 'ipdb.set_trace',\n",
       "        'GITHUB_USERNAME': 'luciewparis',\n",
       "        'VSCODE_ESM_ENTRYPOINT': 'vs/workbench/api/node/extensionHostProcess',\n",
       "        'VSCODE_HANDLES_UNCAUGHT_ERRORS': 'true',\n",
       "        'ELECTRON_RUN_AS_NODE': '1',\n",
       "        'VSCODE_IPC_HOOK_CLI': '/run/user/1000/vscode-ipc-91655f16-d0e8-44dc-b04f-74ee71a48396.sock',\n",
       "        'DEBUG': 'WARN',\n",
       "        'PYTHONUNBUFFERED': '1',\n",
       "        'CLIENT_SECRET': '152a89b43c974a889173e6145f3b926a',\n",
       "        'VIRTUAL_ENV': '/home/lucie_unix/.pyenv/versions/3.10.12/envs/Artefact',\n",
       "        'CLIENT_ID': '1e3a9f991e6443c3a28734e698222436',\n",
       "        'PYTHONIOENCODING': 'utf-8',\n",
       "        'VIRTUAL_ENV_PROMPT': '(Artefact) ',\n",
       "        'PS1': '(Artefact) ',\n",
       "        'PYDEVD_IPYTHON_COMPATIBLE_DEBUGGING': '1',\n",
       "        'PYTHON_FROZEN_MODULES': 'on',\n",
       "        'CLICOLOR': '1',\n",
       "        'GIT_PAGER': 'cat',\n",
       "        'MPLBACKEND': 'module://matplotlib_inline.backend_inline'}"
      ]
     },
     "execution_count": 148,
     "metadata": {},
     "output_type": "execute_result"
    }
   ],
   "source": [
    "os.environ"
   ]
  },
  {
   "cell_type": "code",
   "execution_count": 149,
   "metadata": {},
   "outputs": [
    {
     "name": "stdout",
     "output_type": "stream",
     "text": [
      "{'access_token': 'BQBz_l7IYX58zUW-eXYT6gZ-cWmvjuhBdQtZvnSaRP5VelYcpczGWr_w_NuncTf7fO8-bKX13Q70WGUS8MK4CkjAOypT5B7i1wcM-n9nVvRe71j74klqn9qPeZGcKZTT-qu96EWiSlo', 'token_type': 'Bearer', 'expires_in': 3600}\n",
      "BQBz_l7IYX58zUW-eXYT6gZ-cWmvjuhBdQtZvnSaRP5VelYcpczGWr_w_NuncTf7fO8-bKX13Q70WGUS8MK4CkjAOypT5B7i1wcM-n9nVvRe71j74klqn9qPeZGcKZTT-qu96EWiSlo\n"
     ]
    }
   ],
   "source": [
    "## Envoyer une requête POST avec nos credentials \n",
    "CLIENT_ID=os.environ.get('CLIENT_ID')\n",
    "CLIENT_SECRET=os.environ.get('CLIENT_SECRET')\n",
    "\n",
    "data = {\n",
    "    'grant_type': 'client_credentials',\n",
    "    'client_id': CLIENT_ID,\n",
    "    'client_secret': CLIENT_SECRET,\n",
    "}\n",
    "\n",
    "headers = {\n",
    "    \"Content-Type\": \"application/x-www-form-urlencoded\"\n",
    "}\n",
    "\n",
    "auth_response = requests.post(TOKEN_URL, headers=headers, data=data)\n",
    "print(auth_response.json()) # returns a dictionary\n",
    "print(auth_response.json()['access_token'])"
   ]
  },
  {
   "cell_type": "code",
   "execution_count": 150,
   "metadata": {},
   "outputs": [
    {
     "name": "stdout",
     "output_type": "stream",
     "text": [
      "BQBz_l7IYX58zUW-eXYT6gZ-cWmvjuhBdQtZvnSaRP5VelYcpczGWr_w_NuncTf7fO8-bKX13Q70WGUS8MK4CkjAOypT5B7i1wcM-n9nVvRe71j74klqn9qPeZGcKZTT-qu96EWiSlo\n"
     ]
    }
   ],
   "source": [
    "# RECUPERER DATA EN NOUS AUTHENTIFIANT AVEC L'ACCESS TOKEN ex. info d'un artiste spécifique\n",
    "## Définir le headers avec l'access_token\n",
    "## Penser à utiliser f-string ou .format() pour introduire l'access_token défini ci-dessus\n",
    "access_token = auth_response.json().get('access_token') # access token à mettre en variable d'env pour pas qu'un user public réutilise\n",
    "print(access_token)"
   ]
  },
  {
   "cell_type": "code",
   "execution_count": 151,
   "metadata": {},
   "outputs": [
    {
     "name": "stdout",
     "output_type": "stream",
     "text": [
      "{'external_urls': {'spotify': 'https://open.spotify.com/artist/4Z8W4fKeB5YxbusRsdQVPb'}, 'followers': {'href': None, 'total': 11473042}, 'genres': ['art rock', 'alternative rock'], 'href': 'https://api.spotify.com/v1/artists/4Z8W4fKeB5YxbusRsdQVPb', 'id': '4Z8W4fKeB5YxbusRsdQVPb', 'images': [{'url': 'https://i.scdn.co/image/ab6761610000e5eba03696716c9ee605006047fd', 'height': 640, 'width': 640}, {'url': 'https://i.scdn.co/image/ab67616100005174a03696716c9ee605006047fd', 'height': 320, 'width': 320}, {'url': 'https://i.scdn.co/image/ab6761610000f178a03696716c9ee605006047fd', 'height': 160, 'width': 160}], 'name': 'Radiohead', 'popularity': 83, 'type': 'artist', 'uri': 'spotify:artist:4Z8W4fKeB5YxbusRsdQVPb'}\n"
     ]
    }
   ],
   "source": [
    "## Requête GET pour obtenir la data sur l'artiste\n",
    "### Ici on utilise du python propre i.e requests.get() \n",
    "\n",
    "# We make a GET request and store the response \n",
    "# Add the Content-Type header set to the application/x-www-form-urlencoded value.\n",
    "headers = {\n",
    "    'Authorization': 'Bearer {}'.format(access_token)\n",
    "}\n",
    "\n",
    "response_artist = requests.get(BASE_URL + 'artists/4Z8W4fKeB5YxbusRsdQVPb', headers=headers) \n",
    "if response_artist.status_code == 200: \n",
    "    print(response_artist.json()) # Inspect response by printing it \n",
    "else:\n",
    "    print(response_artist.status_code)"
   ]
  },
  {
   "cell_type": "code",
   "execution_count": null,
   "metadata": {},
   "outputs": [],
   "source": []
  },
  {
   "cell_type": "markdown",
   "metadata": {},
   "source": [
    "# 2. Get artist's nb of followers & genre"
   ]
  },
  {
   "cell_type": "markdown",
   "metadata": {},
   "source": [
    "## 2.1. For one specific artist for whom we have the specific url"
   ]
  },
  {
   "cell_type": "code",
   "execution_count": 152,
   "metadata": {},
   "outputs": [
    {
     "data": {
      "text/plain": [
       "{'href': None, 'total': 11473042}"
      ]
     },
     "execution_count": 152,
     "metadata": {},
     "output_type": "execute_result"
    }
   ],
   "source": [
    "response_artist.json().get('followers')"
   ]
  },
  {
   "cell_type": "code",
   "execution_count": 153,
   "metadata": {},
   "outputs": [
    {
     "data": {
      "text/plain": [
       "11473042"
      ]
     },
     "execution_count": 153,
     "metadata": {},
     "output_type": "execute_result"
    }
   ],
   "source": [
    "followers = response_artist.json().get('followers')['total']\n",
    "followers"
   ]
  },
  {
   "cell_type": "code",
   "execution_count": 154,
   "metadata": {},
   "outputs": [
    {
     "data": {
      "text/plain": [
       "'Radiohead'"
      ]
     },
     "execution_count": 154,
     "metadata": {},
     "output_type": "execute_result"
    }
   ],
   "source": [
    "name = response_artist.json().get('name')\n",
    "name"
   ]
  },
  {
   "cell_type": "code",
   "execution_count": 155,
   "metadata": {},
   "outputs": [
    {
     "name": "stdout",
     "output_type": "stream",
     "text": [
      "['art rock', 'alternative rock']\n",
      "2\n"
     ]
    },
    {
     "data": {
      "text/plain": [
       "(None, None)"
      ]
     },
     "execution_count": 155,
     "metadata": {},
     "output_type": "execute_result"
    }
   ],
   "source": [
    "genres = response_artist.json().get('genres')\n",
    "print(genres), print(len(genres))"
   ]
  },
  {
   "cell_type": "code",
   "execution_count": 156,
   "metadata": {},
   "outputs": [
    {
     "name": "stdout",
     "output_type": "stream",
     "text": [
      "nb of followers for Radiohead = 11473042\n"
     ]
    }
   ],
   "source": [
    "print(f\"nb of followers for {name} = {followers}\")"
   ]
  },
  {
   "cell_type": "markdown",
   "metadata": {},
   "source": [
    "## 2.2. For one specific artist for whom we have the name only (but not its spotify id)"
   ]
  },
  {
   "cell_type": "markdown",
   "metadata": {},
   "source": [
    "### Retrieve Spotify ID for those artists"
   ]
  },
  {
   "cell_type": "code",
   "execution_count": 157,
   "metadata": {},
   "outputs": [
    {
     "name": "stdout",
     "output_type": "stream",
     "text": [
      "{'artists': {'href': 'https://api.spotify.com/v1/search?offset=0&limit=20&query=Daft%20Punk&type=artist', 'limit': 20, 'next': 'https://api.spotify.com/v1/search?offset=20&limit=20&query=Daft%20Punk&type=artist', 'offset': 0, 'previous': None, 'total': 811, 'items': [{'external_urls': {'spotify': 'https://open.spotify.com/artist/4tZwfgrHOc3mvqYlEYSvVi'}, 'followers': {'href': None, 'total': 10467973}, 'genres': ['french house', 'electronic', 'electro'], 'href': 'https://api.spotify.com/v1/artists/4tZwfgrHOc3mvqYlEYSvVi', 'id': '4tZwfgrHOc3mvqYlEYSvVi', 'images': [{'url': 'https://i.scdn.co/image/ab6761610000e5eba7bfd7835b5c1eee0c95fa6e', 'height': 640, 'width': 640}, {'url': 'https://i.scdn.co/image/ab67616100005174a7bfd7835b5c1eee0c95fa6e', 'height': 320, 'width': 320}, {'url': 'https://i.scdn.co/image/ab6761610000f178a7bfd7835b5c1eee0c95fa6e', 'height': 160, 'width': 160}], 'name': 'Daft Punk', 'popularity': 80, 'type': 'artist', 'uri': 'spotify:artist:4tZwfgrHOc3mvqYlEYSvVi'}, {'external_urls': {'spotify': 'https://open.spotify.com/artist/1F83oTuCQlj9S1mUI9vmkm'}, 'followers': {'href': None, 'total': 33}, 'genres': [], 'href': 'https://api.spotify.com/v1/artists/1F83oTuCQlj9S1mUI9vmkm', 'id': '1F83oTuCQlj9S1mUI9vmkm', 'images': [], 'name': 'Daft Punk (Guy-Manuel de Homem-Christo', 'popularity': 14, 'type': 'artist', 'uri': 'spotify:artist:1F83oTuCQlj9S1mUI9vmkm'}, {'external_urls': {'spotify': 'https://open.spotify.com/artist/1Cs0zKBU1kc0i8ypK3B9ai'}, 'followers': {'href': None, 'total': 26816165}, 'genres': ['edm', 'dance'], 'href': 'https://api.spotify.com/v1/artists/1Cs0zKBU1kc0i8ypK3B9ai', 'id': '1Cs0zKBU1kc0i8ypK3B9ai', 'images': [{'url': 'https://i.scdn.co/image/ab6761610000e5ebf150017ca69c8793503c2d4f', 'height': 640, 'width': 640}, {'url': 'https://i.scdn.co/image/ab67616100005174f150017ca69c8793503c2d4f', 'height': 320, 'width': 320}, {'url': 'https://i.scdn.co/image/ab6761610000f178f150017ca69c8793503c2d4f', 'height': 160, 'width': 160}], 'name': 'David Guetta', 'popularity': 87, 'type': 'artist', 'uri': 'spotify:artist:1Cs0zKBU1kc0i8ypK3B9ai'}, {'external_urls': {'spotify': 'https://open.spotify.com/artist/36i0ga1yiWUrBBpJQVCsgc'}, 'followers': {'href': None, 'total': 352}, 'genres': ['phonk'], 'href': 'https://api.spotify.com/v1/artists/36i0ga1yiWUrBBpJQVCsgc', 'id': '36i0ga1yiWUrBBpJQVCsgc', 'images': [{'url': 'https://i.scdn.co/image/ab6761610000e5ebd6a1529ff906e2fe33be6bd9', 'height': 640, 'width': 640}, {'url': 'https://i.scdn.co/image/ab67616100005174d6a1529ff906e2fe33be6bd9', 'height': 320, 'width': 320}, {'url': 'https://i.scdn.co/image/ab6761610000f178d6a1529ff906e2fe33be6bd9', 'height': 160, 'width': 160}], 'name': 'Daft Junk', 'popularity': 27, 'type': 'artist', 'uri': 'spotify:artist:36i0ga1yiWUrBBpJQVCsgc'}, {'external_urls': {'spotify': 'https://open.spotify.com/artist/0VJIBKdqJygrupAxpSTk7q'}, 'followers': {'href': None, 'total': 426043}, 'genres': [], 'href': 'https://api.spotify.com/v1/artists/0VJIBKdqJygrupAxpSTk7q', 'id': '0VJIBKdqJygrupAxpSTk7q', 'images': [{'url': 'https://i.scdn.co/image/ab6761610000e5eba00de79f74f8874a1cf9f286', 'height': 640, 'width': 640}, {'url': 'https://i.scdn.co/image/ab67616100005174a00de79f74f8874a1cf9f286', 'height': 320, 'width': 320}, {'url': 'https://i.scdn.co/image/ab6761610000f178a00de79f74f8874a1cf9f286', 'height': 160, 'width': 160}], 'name': 'Shaka Ponk', 'popularity': 56, 'type': 'artist', 'uri': 'spotify:artist:0VJIBKdqJygrupAxpSTk7q'}, {'external_urls': {'spotify': 'https://open.spotify.com/artist/3l38jCPrlWn2HZDjZ4xctd'}, 'followers': {'href': None, 'total': 4}, 'genres': [], 'href': 'https://api.spotify.com/v1/artists/3l38jCPrlWn2HZDjZ4xctd', 'id': '3l38jCPrlWn2HZDjZ4xctd', 'images': [{'url': 'https://i.scdn.co/image/ab67616d0000b273854202e1aea56bb0b7b92845', 'height': 640, 'width': 640}, {'url': 'https://i.scdn.co/image/ab67616d00001e02854202e1aea56bb0b7b92845', 'height': 300, 'width': 300}, {'url': 'https://i.scdn.co/image/ab67616d00004851854202e1aea56bb0b7b92845', 'height': 64, 'width': 64}], 'name': 'Daft Punk Experience', 'popularity': 0, 'type': 'artist', 'uri': 'spotify:artist:3l38jCPrlWn2HZDjZ4xctd'}, {'external_urls': {'spotify': 'https://open.spotify.com/artist/0UF7XLthtbSF2Eur7559oV'}, 'followers': {'href': None, 'total': 1001420}, 'genres': ['synthwave', 'french house'], 'href': 'https://api.spotify.com/v1/artists/0UF7XLthtbSF2Eur7559oV', 'id': '0UF7XLthtbSF2Eur7559oV', 'images': [{'url': 'https://i.scdn.co/image/ab6761610000e5eb2dc7b3180bad1885c6ee1320', 'height': 640, 'width': 640}, {'url': 'https://i.scdn.co/image/ab676161000051742dc7b3180bad1885c6ee1320', 'height': 320, 'width': 320}, {'url': 'https://i.scdn.co/image/ab6761610000f1782dc7b3180bad1885c6ee1320', 'height': 160, 'width': 160}], 'name': 'Kavinsky', 'popularity': 63, 'type': 'artist', 'uri': 'spotify:artist:0UF7XLthtbSF2Eur7559oV'}, {'external_urls': {'spotify': 'https://open.spotify.com/artist/0f21U8AP6zyqKXWmDj09FO'}, 'followers': {'href': None, 'total': 1497}, 'genres': [], 'href': 'https://api.spotify.com/v1/artists/0f21U8AP6zyqKXWmDj09FO', 'id': '0f21U8AP6zyqKXWmDj09FO', 'images': [{'url': 'https://i.scdn.co/image/ab6761610000e5eb533602241461c036515a2a80', 'height': 640, 'width': 640}, {'url': 'https://i.scdn.co/image/ab67616100005174533602241461c036515a2a80', 'height': 320, 'width': 320}, {'url': 'https://i.scdn.co/image/ab6761610000f178533602241461c036515a2a80', 'height': 160, 'width': 160}], 'name': 'Daft Phonk', 'popularity': 12, 'type': 'artist', 'uri': 'spotify:artist:0f21U8AP6zyqKXWmDj09FO'}, {'external_urls': {'spotify': 'https://open.spotify.com/artist/1gR0gsQYfi6joyO1dlp76N'}, 'followers': {'href': None, 'total': 1328239}, 'genres': ['french house', 'new rave', 'electronic rock'], 'href': 'https://api.spotify.com/v1/artists/1gR0gsQYfi6joyO1dlp76N', 'id': '1gR0gsQYfi6joyO1dlp76N', 'images': [{'url': 'https://i.scdn.co/image/ab6761610000e5ebf140c161d9f9cc9afe85b6ed', 'height': 640, 'width': 640}, {'url': 'https://i.scdn.co/image/ab67616100005174f140c161d9f9cc9afe85b6ed', 'height': 320, 'width': 320}, {'url': 'https://i.scdn.co/image/ab6761610000f178f140c161d9f9cc9afe85b6ed', 'height': 160, 'width': 160}], 'name': 'Justice', 'popularity': 71, 'type': 'artist', 'uri': 'spotify:artist:1gR0gsQYfi6joyO1dlp76N'}, {'external_urls': {'spotify': 'https://open.spotify.com/artist/0T9UX7X5QebNuRbioQG9af'}, 'followers': {'href': None, 'total': 21}, 'genres': [], 'href': 'https://api.spotify.com/v1/artists/0T9UX7X5QebNuRbioQG9af', 'id': '0T9UX7X5QebNuRbioQG9af', 'images': [{'url': 'https://i.scdn.co/image/ab6761610000e5eb0945533ed74ebf56df3f407d', 'height': 640, 'width': 640}, {'url': 'https://i.scdn.co/image/ab676161000051740945533ed74ebf56df3f407d', 'height': 320, 'width': 320}, {'url': 'https://i.scdn.co/image/ab6761610000f1780945533ed74ebf56df3f407d', 'height': 160, 'width': 160}], 'name': 'Punky Daftr', 'popularity': 0, 'type': 'artist', 'uri': 'spotify:artist:0T9UX7X5QebNuRbioQG9af'}, {'external_urls': {'spotify': 'https://open.spotify.com/artist/3CnCGFxXbOA8bAK54jR8js'}, 'followers': {'href': None, 'total': 1295270}, 'genres': ['pop urbaine'], 'href': 'https://api.spotify.com/v1/artists/3CnCGFxXbOA8bAK54jR8js', 'id': '3CnCGFxXbOA8bAK54jR8js', 'images': [{'url': 'https://i.scdn.co/image/ab6761610000e5ebbb5d08bce59cfcc825c301f4', 'height': 640, 'width': 640}, {'url': 'https://i.scdn.co/image/ab67616100005174bb5d08bce59cfcc825c301f4', 'height': 320, 'width': 320}, {'url': 'https://i.scdn.co/image/ab6761610000f178bb5d08bce59cfcc825c301f4', 'height': 160, 'width': 160}], 'name': 'Vald', 'popularity': 59, 'type': 'artist', 'uri': 'spotify:artist:3CnCGFxXbOA8bAK54jR8js'}, {'external_urls': {'spotify': 'https://open.spotify.com/artist/19652sgLSyIkcGOvVFv7MZ'}, 'followers': {'href': None, 'total': 5}, 'genres': [], 'href': 'https://api.spotify.com/v1/artists/19652sgLSyIkcGOvVFv7MZ', 'id': '19652sgLSyIkcGOvVFv7MZ', 'images': [{'url': 'https://i.scdn.co/image/ab67616d0000b2733170925aae3ffd3d3486930c', 'height': 640, 'width': 640}, {'url': 'https://i.scdn.co/image/ab67616d00001e023170925aae3ffd3d3486930c', 'height': 300, 'width': 300}, {'url': 'https://i.scdn.co/image/ab67616d000048513170925aae3ffd3d3486930c', 'height': 64, 'width': 64}], 'name': 'Project Daft Punk', 'popularity': 0, 'type': 'artist', 'uri': 'spotify:artist:19652sgLSyIkcGOvVFv7MZ'}, {'external_urls': {'spotify': 'https://open.spotify.com/artist/7rz6ZZErn5YFDteXKhyf3g'}, 'followers': {'href': None, 'total': 307747}, 'genres': [], 'href': 'https://api.spotify.com/v1/artists/7rz6ZZErn5YFDteXKhyf3g', 'id': '7rz6ZZErn5YFDteXKhyf3g', 'images': [{'url': 'https://i.scdn.co/image/ab6761610000e5eb1c4076f607e591ea865c8c3d', 'height': 640, 'width': 640}, {'url': 'https://i.scdn.co/image/ab676161000051741c4076f607e591ea865c8c3d', 'height': 320, 'width': 320}, {'url': 'https://i.scdn.co/image/ab6761610000f1781c4076f607e591ea865c8c3d', 'height': 160, 'width': 160}], 'name': 'Disiz', 'popularity': 55, 'type': 'artist', 'uri': 'spotify:artist:7rz6ZZErn5YFDteXKhyf3g'}, {'external_urls': {'spotify': 'https://open.spotify.com/artist/2ofKDDy4ZPXXO9zaNXwKvm'}, 'followers': {'href': None, 'total': 84}, 'genres': [], 'href': 'https://api.spotify.com/v1/artists/2ofKDDy4ZPXXO9zaNXwKvm', 'id': '2ofKDDy4ZPXXO9zaNXwKvm', 'images': [{'url': 'https://i.scdn.co/image/ab67616d0000b27390270c51e31e466c4876edb2', 'height': 640, 'width': 640}, {'url': 'https://i.scdn.co/image/ab67616d00001e0290270c51e31e466c4876edb2', 'height': 300, 'width': 300}, {'url': 'https://i.scdn.co/image/ab67616d0000485190270c51e31e466c4876edb2', 'height': 64, 'width': 64}], 'name': \"Daft Punk's Karaoke Band\", 'popularity': 0, 'type': 'artist', 'uri': 'spotify:artist:2ofKDDy4ZPXXO9zaNXwKvm'}, {'external_urls': {'spotify': 'https://open.spotify.com/artist/1xU878Z1QtBldR7ru9owdU'}, 'followers': {'href': None, 'total': 1961273}, 'genres': ['indie'], 'href': 'https://api.spotify.com/v1/artists/1xU878Z1QtBldR7ru9owdU', 'id': '1xU878Z1QtBldR7ru9owdU', 'images': [{'url': 'https://i.scdn.co/image/ab6761610000e5eb722051daeb10119e2e039724', 'height': 640, 'width': 640}, {'url': 'https://i.scdn.co/image/ab67616100005174722051daeb10119e2e039724', 'height': 320, 'width': 320}, {'url': 'https://i.scdn.co/image/ab6761610000f178722051daeb10119e2e039724', 'height': 160, 'width': 160}], 'name': 'Phoenix', 'popularity': 65, 'type': 'artist', 'uri': 'spotify:artist:1xU878Z1QtBldR7ru9owdU'}, {'external_urls': {'spotify': 'https://open.spotify.com/artist/7CTejuKlwb0KuJQP80OAOZ'}, 'followers': {'href': None, 'total': 19}, 'genres': [], 'href': 'https://api.spotify.com/v1/artists/7CTejuKlwb0KuJQP80OAOZ', 'id': '7CTejuKlwb0KuJQP80OAOZ', 'images': [{'url': 'https://i.scdn.co/image/ab67616d0000b2733cc3804c1e3e6243c2fb1245', 'height': 640, 'width': 640}, {'url': 'https://i.scdn.co/image/ab67616d00001e023cc3804c1e3e6243c2fb1245', 'height': 300, 'width': 300}, {'url': 'https://i.scdn.co/image/ab67616d000048513cc3804c1e3e6243c2fb1245', 'height': 64, 'width': 64}], 'name': 'Daft Pink', 'popularity': 12, 'type': 'artist', 'uri': 'spotify:artist:7CTejuKlwb0KuJQP80OAOZ'}, {'external_urls': {'spotify': 'https://open.spotify.com/artist/12Chz98pHFMPJEknJQMWvI'}, 'followers': {'href': None, 'total': 8144661}, 'genres': ['alternative rock', 'rock'], 'href': 'https://api.spotify.com/v1/artists/12Chz98pHFMPJEknJQMWvI', 'id': '12Chz98pHFMPJEknJQMWvI', 'images': [{'url': 'https://i.scdn.co/image/ab6761610000e5eb0accbbe13e1aa147dd27671c', 'height': 640, 'width': 640}, {'url': 'https://i.scdn.co/image/ab676161000051740accbbe13e1aa147dd27671c', 'height': 320, 'width': 320}, {'url': 'https://i.scdn.co/image/ab6761610000f1780accbbe13e1aa147dd27671c', 'height': 160, 'width': 160}], 'name': 'Muse', 'popularity': 75, 'type': 'artist', 'uri': 'spotify:artist:12Chz98pHFMPJEknJQMWvI'}, {'external_urls': {'spotify': 'https://open.spotify.com/artist/50jJ85CM01qll8yF0kflpm'}, 'followers': {'href': None, 'total': 86}, 'genres': [], 'href': 'https://api.spotify.com/v1/artists/50jJ85CM01qll8yF0kflpm', 'id': '50jJ85CM01qll8yF0kflpm', 'images': [], 'name': 'Made famous by Daft Punk', 'popularity': 0, 'type': 'artist', 'uri': 'spotify:artist:50jJ85CM01qll8yF0kflpm'}, {'external_urls': {'spotify': 'https://open.spotify.com/artist/56Q6weEROZ1RsVrTak8Bm7'}, 'followers': {'href': None, 'total': 664516}, 'genres': [], 'href': 'https://api.spotify.com/v1/artists/56Q6weEROZ1RsVrTak8Bm7', 'id': '56Q6weEROZ1RsVrTak8Bm7', 'images': [{'url': 'https://i.scdn.co/image/ce03b673d12a1b23eecc4c3f790e36ea6005aa42', 'height': 1000, 'width': 1000}, {'url': 'https://i.scdn.co/image/1839b461bcc9a0f014441074bbb971806af6bff0', 'height': 640, 'width': 640}, {'url': 'https://i.scdn.co/image/210db36e46b7a7d5a4cccb16e722a605f17e9ab9', 'height': 200, 'width': 200}, {'url': 'https://i.scdn.co/image/cc683815765e094322acb2edcc86e360ba88f206', 'height': 64, 'width': 64}], 'name': 'IAM', 'popularity': 53, 'type': 'artist', 'uri': 'spotify:artist:56Q6weEROZ1RsVrTak8Bm7'}, {'external_urls': {'spotify': 'https://open.spotify.com/artist/3Xy9NaVDeAgSxBwXqXu7J0'}, 'followers': {'href': None, 'total': 6032}, 'genres': ['folk', 'folk punk'], 'href': 'https://api.spotify.com/v1/artists/3Xy9NaVDeAgSxBwXqXu7J0', 'id': '3Xy9NaVDeAgSxBwXqXu7J0', 'images': [{'url': 'https://i.scdn.co/image/ab67616d0000b273afa434140e9326a7db54e64d', 'height': 640, 'width': 640}, {'url': 'https://i.scdn.co/image/ab67616d00001e02afa434140e9326a7db54e64d', 'height': 300, 'width': 300}, {'url': 'https://i.scdn.co/image/ab67616d000048516ad6c642c974e010fcf769d1', 'height': 64, 'width': 64}], 'name': '3 Daft Monkeys', 'popularity': 15, 'type': 'artist', 'uri': 'spotify:artist:3Xy9NaVDeAgSxBwXqXu7J0'}]}}\n"
     ]
    }
   ],
   "source": [
    "# Retrieve Spotify ID (see definition of Spotify ID: https://developer.spotify.com/documentation/web-api/concepts/spotify-uris-ids)\n",
    "# Inspiration: https://stackoverflow.com/questions/41566971/how-to-get-spotify-artist-id-for-the-spotify-endpoint-url\n",
    "response_artist_search = requests.get(BASE_URL + 'search?q=Daft+Punk&type=artist', headers=headers) \n",
    "if response_artist.status_code == 200: \n",
    "    print(response_artist_search.json()) # Inspect response by printing it \n",
    "else:\n",
    "    print(response_artist_search.status_code)"
   ]
  },
  {
   "cell_type": "code",
   "execution_count": 158,
   "metadata": {},
   "outputs": [
    {
     "data": {
      "text/plain": [
       "'search?q=Daft+Punk&type=artist'"
      ]
     },
     "execution_count": 158,
     "metadata": {},
     "output_type": "execute_result"
    }
   ],
   "source": [
    "# Version with name of artist defined first\n",
    "artist_name= 'Daft Punk'\n",
    "url_artist=artist_name.replace(' ','+')\n",
    "'search?q='+url_artist+'&type=artist'"
   ]
  },
  {
   "cell_type": "code",
   "execution_count": 159,
   "metadata": {},
   "outputs": [
    {
     "name": "stdout",
     "output_type": "stream",
     "text": [
      "{'artists': {'href': 'https://api.spotify.com/v1/search?offset=0&limit=20&query=Daft%20Punk&type=artist', 'limit': 20, 'next': 'https://api.spotify.com/v1/search?offset=20&limit=20&query=Daft%20Punk&type=artist', 'offset': 0, 'previous': None, 'total': 811, 'items': [{'external_urls': {'spotify': 'https://open.spotify.com/artist/4tZwfgrHOc3mvqYlEYSvVi'}, 'followers': {'href': None, 'total': 10467973}, 'genres': ['french house', 'electronic', 'electro'], 'href': 'https://api.spotify.com/v1/artists/4tZwfgrHOc3mvqYlEYSvVi', 'id': '4tZwfgrHOc3mvqYlEYSvVi', 'images': [{'url': 'https://i.scdn.co/image/ab6761610000e5eba7bfd7835b5c1eee0c95fa6e', 'height': 640, 'width': 640}, {'url': 'https://i.scdn.co/image/ab67616100005174a7bfd7835b5c1eee0c95fa6e', 'height': 320, 'width': 320}, {'url': 'https://i.scdn.co/image/ab6761610000f178a7bfd7835b5c1eee0c95fa6e', 'height': 160, 'width': 160}], 'name': 'Daft Punk', 'popularity': 80, 'type': 'artist', 'uri': 'spotify:artist:4tZwfgrHOc3mvqYlEYSvVi'}, {'external_urls': {'spotify': 'https://open.spotify.com/artist/1F83oTuCQlj9S1mUI9vmkm'}, 'followers': {'href': None, 'total': 33}, 'genres': [], 'href': 'https://api.spotify.com/v1/artists/1F83oTuCQlj9S1mUI9vmkm', 'id': '1F83oTuCQlj9S1mUI9vmkm', 'images': [], 'name': 'Daft Punk (Guy-Manuel de Homem-Christo', 'popularity': 14, 'type': 'artist', 'uri': 'spotify:artist:1F83oTuCQlj9S1mUI9vmkm'}, {'external_urls': {'spotify': 'https://open.spotify.com/artist/1Cs0zKBU1kc0i8ypK3B9ai'}, 'followers': {'href': None, 'total': 26816165}, 'genres': ['edm', 'dance'], 'href': 'https://api.spotify.com/v1/artists/1Cs0zKBU1kc0i8ypK3B9ai', 'id': '1Cs0zKBU1kc0i8ypK3B9ai', 'images': [{'url': 'https://i.scdn.co/image/ab6761610000e5ebf150017ca69c8793503c2d4f', 'height': 640, 'width': 640}, {'url': 'https://i.scdn.co/image/ab67616100005174f150017ca69c8793503c2d4f', 'height': 320, 'width': 320}, {'url': 'https://i.scdn.co/image/ab6761610000f178f150017ca69c8793503c2d4f', 'height': 160, 'width': 160}], 'name': 'David Guetta', 'popularity': 87, 'type': 'artist', 'uri': 'spotify:artist:1Cs0zKBU1kc0i8ypK3B9ai'}, {'external_urls': {'spotify': 'https://open.spotify.com/artist/36i0ga1yiWUrBBpJQVCsgc'}, 'followers': {'href': None, 'total': 352}, 'genres': ['phonk'], 'href': 'https://api.spotify.com/v1/artists/36i0ga1yiWUrBBpJQVCsgc', 'id': '36i0ga1yiWUrBBpJQVCsgc', 'images': [{'url': 'https://i.scdn.co/image/ab6761610000e5ebd6a1529ff906e2fe33be6bd9', 'height': 640, 'width': 640}, {'url': 'https://i.scdn.co/image/ab67616100005174d6a1529ff906e2fe33be6bd9', 'height': 320, 'width': 320}, {'url': 'https://i.scdn.co/image/ab6761610000f178d6a1529ff906e2fe33be6bd9', 'height': 160, 'width': 160}], 'name': 'Daft Junk', 'popularity': 27, 'type': 'artist', 'uri': 'spotify:artist:36i0ga1yiWUrBBpJQVCsgc'}, {'external_urls': {'spotify': 'https://open.spotify.com/artist/0VJIBKdqJygrupAxpSTk7q'}, 'followers': {'href': None, 'total': 426043}, 'genres': [], 'href': 'https://api.spotify.com/v1/artists/0VJIBKdqJygrupAxpSTk7q', 'id': '0VJIBKdqJygrupAxpSTk7q', 'images': [{'url': 'https://i.scdn.co/image/ab6761610000e5eba00de79f74f8874a1cf9f286', 'height': 640, 'width': 640}, {'url': 'https://i.scdn.co/image/ab67616100005174a00de79f74f8874a1cf9f286', 'height': 320, 'width': 320}, {'url': 'https://i.scdn.co/image/ab6761610000f178a00de79f74f8874a1cf9f286', 'height': 160, 'width': 160}], 'name': 'Shaka Ponk', 'popularity': 56, 'type': 'artist', 'uri': 'spotify:artist:0VJIBKdqJygrupAxpSTk7q'}, {'external_urls': {'spotify': 'https://open.spotify.com/artist/3l38jCPrlWn2HZDjZ4xctd'}, 'followers': {'href': None, 'total': 4}, 'genres': [], 'href': 'https://api.spotify.com/v1/artists/3l38jCPrlWn2HZDjZ4xctd', 'id': '3l38jCPrlWn2HZDjZ4xctd', 'images': [{'url': 'https://i.scdn.co/image/ab67616d0000b273854202e1aea56bb0b7b92845', 'height': 640, 'width': 640}, {'url': 'https://i.scdn.co/image/ab67616d00001e02854202e1aea56bb0b7b92845', 'height': 300, 'width': 300}, {'url': 'https://i.scdn.co/image/ab67616d00004851854202e1aea56bb0b7b92845', 'height': 64, 'width': 64}], 'name': 'Daft Punk Experience', 'popularity': 0, 'type': 'artist', 'uri': 'spotify:artist:3l38jCPrlWn2HZDjZ4xctd'}, {'external_urls': {'spotify': 'https://open.spotify.com/artist/0UF7XLthtbSF2Eur7559oV'}, 'followers': {'href': None, 'total': 1001420}, 'genres': ['synthwave', 'french house'], 'href': 'https://api.spotify.com/v1/artists/0UF7XLthtbSF2Eur7559oV', 'id': '0UF7XLthtbSF2Eur7559oV', 'images': [{'url': 'https://i.scdn.co/image/ab6761610000e5eb2dc7b3180bad1885c6ee1320', 'height': 640, 'width': 640}, {'url': 'https://i.scdn.co/image/ab676161000051742dc7b3180bad1885c6ee1320', 'height': 320, 'width': 320}, {'url': 'https://i.scdn.co/image/ab6761610000f1782dc7b3180bad1885c6ee1320', 'height': 160, 'width': 160}], 'name': 'Kavinsky', 'popularity': 63, 'type': 'artist', 'uri': 'spotify:artist:0UF7XLthtbSF2Eur7559oV'}, {'external_urls': {'spotify': 'https://open.spotify.com/artist/0f21U8AP6zyqKXWmDj09FO'}, 'followers': {'href': None, 'total': 1497}, 'genres': [], 'href': 'https://api.spotify.com/v1/artists/0f21U8AP6zyqKXWmDj09FO', 'id': '0f21U8AP6zyqKXWmDj09FO', 'images': [{'url': 'https://i.scdn.co/image/ab6761610000e5eb533602241461c036515a2a80', 'height': 640, 'width': 640}, {'url': 'https://i.scdn.co/image/ab67616100005174533602241461c036515a2a80', 'height': 320, 'width': 320}, {'url': 'https://i.scdn.co/image/ab6761610000f178533602241461c036515a2a80', 'height': 160, 'width': 160}], 'name': 'Daft Phonk', 'popularity': 12, 'type': 'artist', 'uri': 'spotify:artist:0f21U8AP6zyqKXWmDj09FO'}, {'external_urls': {'spotify': 'https://open.spotify.com/artist/1gR0gsQYfi6joyO1dlp76N'}, 'followers': {'href': None, 'total': 1328239}, 'genres': ['french house', 'new rave', 'electronic rock'], 'href': 'https://api.spotify.com/v1/artists/1gR0gsQYfi6joyO1dlp76N', 'id': '1gR0gsQYfi6joyO1dlp76N', 'images': [{'url': 'https://i.scdn.co/image/ab6761610000e5ebf140c161d9f9cc9afe85b6ed', 'height': 640, 'width': 640}, {'url': 'https://i.scdn.co/image/ab67616100005174f140c161d9f9cc9afe85b6ed', 'height': 320, 'width': 320}, {'url': 'https://i.scdn.co/image/ab6761610000f178f140c161d9f9cc9afe85b6ed', 'height': 160, 'width': 160}], 'name': 'Justice', 'popularity': 71, 'type': 'artist', 'uri': 'spotify:artist:1gR0gsQYfi6joyO1dlp76N'}, {'external_urls': {'spotify': 'https://open.spotify.com/artist/0T9UX7X5QebNuRbioQG9af'}, 'followers': {'href': None, 'total': 21}, 'genres': [], 'href': 'https://api.spotify.com/v1/artists/0T9UX7X5QebNuRbioQG9af', 'id': '0T9UX7X5QebNuRbioQG9af', 'images': [{'url': 'https://i.scdn.co/image/ab6761610000e5eb0945533ed74ebf56df3f407d', 'height': 640, 'width': 640}, {'url': 'https://i.scdn.co/image/ab676161000051740945533ed74ebf56df3f407d', 'height': 320, 'width': 320}, {'url': 'https://i.scdn.co/image/ab6761610000f1780945533ed74ebf56df3f407d', 'height': 160, 'width': 160}], 'name': 'Punky Daftr', 'popularity': 0, 'type': 'artist', 'uri': 'spotify:artist:0T9UX7X5QebNuRbioQG9af'}, {'external_urls': {'spotify': 'https://open.spotify.com/artist/3CnCGFxXbOA8bAK54jR8js'}, 'followers': {'href': None, 'total': 1295270}, 'genres': ['pop urbaine'], 'href': 'https://api.spotify.com/v1/artists/3CnCGFxXbOA8bAK54jR8js', 'id': '3CnCGFxXbOA8bAK54jR8js', 'images': [{'url': 'https://i.scdn.co/image/ab6761610000e5ebbb5d08bce59cfcc825c301f4', 'height': 640, 'width': 640}, {'url': 'https://i.scdn.co/image/ab67616100005174bb5d08bce59cfcc825c301f4', 'height': 320, 'width': 320}, {'url': 'https://i.scdn.co/image/ab6761610000f178bb5d08bce59cfcc825c301f4', 'height': 160, 'width': 160}], 'name': 'Vald', 'popularity': 59, 'type': 'artist', 'uri': 'spotify:artist:3CnCGFxXbOA8bAK54jR8js'}, {'external_urls': {'spotify': 'https://open.spotify.com/artist/19652sgLSyIkcGOvVFv7MZ'}, 'followers': {'href': None, 'total': 5}, 'genres': [], 'href': 'https://api.spotify.com/v1/artists/19652sgLSyIkcGOvVFv7MZ', 'id': '19652sgLSyIkcGOvVFv7MZ', 'images': [{'url': 'https://i.scdn.co/image/ab67616d0000b2733170925aae3ffd3d3486930c', 'height': 640, 'width': 640}, {'url': 'https://i.scdn.co/image/ab67616d00001e023170925aae3ffd3d3486930c', 'height': 300, 'width': 300}, {'url': 'https://i.scdn.co/image/ab67616d000048513170925aae3ffd3d3486930c', 'height': 64, 'width': 64}], 'name': 'Project Daft Punk', 'popularity': 0, 'type': 'artist', 'uri': 'spotify:artist:19652sgLSyIkcGOvVFv7MZ'}, {'external_urls': {'spotify': 'https://open.spotify.com/artist/7rz6ZZErn5YFDteXKhyf3g'}, 'followers': {'href': None, 'total': 307747}, 'genres': [], 'href': 'https://api.spotify.com/v1/artists/7rz6ZZErn5YFDteXKhyf3g', 'id': '7rz6ZZErn5YFDteXKhyf3g', 'images': [{'url': 'https://i.scdn.co/image/ab6761610000e5eb1c4076f607e591ea865c8c3d', 'height': 640, 'width': 640}, {'url': 'https://i.scdn.co/image/ab676161000051741c4076f607e591ea865c8c3d', 'height': 320, 'width': 320}, {'url': 'https://i.scdn.co/image/ab6761610000f1781c4076f607e591ea865c8c3d', 'height': 160, 'width': 160}], 'name': 'Disiz', 'popularity': 55, 'type': 'artist', 'uri': 'spotify:artist:7rz6ZZErn5YFDteXKhyf3g'}, {'external_urls': {'spotify': 'https://open.spotify.com/artist/2ofKDDy4ZPXXO9zaNXwKvm'}, 'followers': {'href': None, 'total': 84}, 'genres': [], 'href': 'https://api.spotify.com/v1/artists/2ofKDDy4ZPXXO9zaNXwKvm', 'id': '2ofKDDy4ZPXXO9zaNXwKvm', 'images': [{'url': 'https://i.scdn.co/image/ab67616d0000b27390270c51e31e466c4876edb2', 'height': 640, 'width': 640}, {'url': 'https://i.scdn.co/image/ab67616d00001e0290270c51e31e466c4876edb2', 'height': 300, 'width': 300}, {'url': 'https://i.scdn.co/image/ab67616d0000485190270c51e31e466c4876edb2', 'height': 64, 'width': 64}], 'name': \"Daft Punk's Karaoke Band\", 'popularity': 0, 'type': 'artist', 'uri': 'spotify:artist:2ofKDDy4ZPXXO9zaNXwKvm'}, {'external_urls': {'spotify': 'https://open.spotify.com/artist/1xU878Z1QtBldR7ru9owdU'}, 'followers': {'href': None, 'total': 1961273}, 'genres': ['indie'], 'href': 'https://api.spotify.com/v1/artists/1xU878Z1QtBldR7ru9owdU', 'id': '1xU878Z1QtBldR7ru9owdU', 'images': [{'url': 'https://i.scdn.co/image/ab6761610000e5eb722051daeb10119e2e039724', 'height': 640, 'width': 640}, {'url': 'https://i.scdn.co/image/ab67616100005174722051daeb10119e2e039724', 'height': 320, 'width': 320}, {'url': 'https://i.scdn.co/image/ab6761610000f178722051daeb10119e2e039724', 'height': 160, 'width': 160}], 'name': 'Phoenix', 'popularity': 65, 'type': 'artist', 'uri': 'spotify:artist:1xU878Z1QtBldR7ru9owdU'}, {'external_urls': {'spotify': 'https://open.spotify.com/artist/7CTejuKlwb0KuJQP80OAOZ'}, 'followers': {'href': None, 'total': 19}, 'genres': [], 'href': 'https://api.spotify.com/v1/artists/7CTejuKlwb0KuJQP80OAOZ', 'id': '7CTejuKlwb0KuJQP80OAOZ', 'images': [{'url': 'https://i.scdn.co/image/ab67616d0000b2733cc3804c1e3e6243c2fb1245', 'height': 640, 'width': 640}, {'url': 'https://i.scdn.co/image/ab67616d00001e023cc3804c1e3e6243c2fb1245', 'height': 300, 'width': 300}, {'url': 'https://i.scdn.co/image/ab67616d000048513cc3804c1e3e6243c2fb1245', 'height': 64, 'width': 64}], 'name': 'Daft Pink', 'popularity': 12, 'type': 'artist', 'uri': 'spotify:artist:7CTejuKlwb0KuJQP80OAOZ'}, {'external_urls': {'spotify': 'https://open.spotify.com/artist/12Chz98pHFMPJEknJQMWvI'}, 'followers': {'href': None, 'total': 8144661}, 'genres': ['alternative rock', 'rock'], 'href': 'https://api.spotify.com/v1/artists/12Chz98pHFMPJEknJQMWvI', 'id': '12Chz98pHFMPJEknJQMWvI', 'images': [{'url': 'https://i.scdn.co/image/ab6761610000e5eb0accbbe13e1aa147dd27671c', 'height': 640, 'width': 640}, {'url': 'https://i.scdn.co/image/ab676161000051740accbbe13e1aa147dd27671c', 'height': 320, 'width': 320}, {'url': 'https://i.scdn.co/image/ab6761610000f1780accbbe13e1aa147dd27671c', 'height': 160, 'width': 160}], 'name': 'Muse', 'popularity': 75, 'type': 'artist', 'uri': 'spotify:artist:12Chz98pHFMPJEknJQMWvI'}, {'external_urls': {'spotify': 'https://open.spotify.com/artist/50jJ85CM01qll8yF0kflpm'}, 'followers': {'href': None, 'total': 86}, 'genres': [], 'href': 'https://api.spotify.com/v1/artists/50jJ85CM01qll8yF0kflpm', 'id': '50jJ85CM01qll8yF0kflpm', 'images': [], 'name': 'Made famous by Daft Punk', 'popularity': 0, 'type': 'artist', 'uri': 'spotify:artist:50jJ85CM01qll8yF0kflpm'}, {'external_urls': {'spotify': 'https://open.spotify.com/artist/56Q6weEROZ1RsVrTak8Bm7'}, 'followers': {'href': None, 'total': 664516}, 'genres': [], 'href': 'https://api.spotify.com/v1/artists/56Q6weEROZ1RsVrTak8Bm7', 'id': '56Q6weEROZ1RsVrTak8Bm7', 'images': [{'url': 'https://i.scdn.co/image/ce03b673d12a1b23eecc4c3f790e36ea6005aa42', 'height': 1000, 'width': 1000}, {'url': 'https://i.scdn.co/image/1839b461bcc9a0f014441074bbb971806af6bff0', 'height': 640, 'width': 640}, {'url': 'https://i.scdn.co/image/210db36e46b7a7d5a4cccb16e722a605f17e9ab9', 'height': 200, 'width': 200}, {'url': 'https://i.scdn.co/image/cc683815765e094322acb2edcc86e360ba88f206', 'height': 64, 'width': 64}], 'name': 'IAM', 'popularity': 53, 'type': 'artist', 'uri': 'spotify:artist:56Q6weEROZ1RsVrTak8Bm7'}, {'external_urls': {'spotify': 'https://open.spotify.com/artist/3Xy9NaVDeAgSxBwXqXu7J0'}, 'followers': {'href': None, 'total': 6032}, 'genres': ['folk', 'folk punk'], 'href': 'https://api.spotify.com/v1/artists/3Xy9NaVDeAgSxBwXqXu7J0', 'id': '3Xy9NaVDeAgSxBwXqXu7J0', 'images': [{'url': 'https://i.scdn.co/image/ab67616d0000b273afa434140e9326a7db54e64d', 'height': 640, 'width': 640}, {'url': 'https://i.scdn.co/image/ab67616d00001e02afa434140e9326a7db54e64d', 'height': 300, 'width': 300}, {'url': 'https://i.scdn.co/image/ab67616d000048516ad6c642c974e010fcf769d1', 'height': 64, 'width': 64}], 'name': '3 Daft Monkeys', 'popularity': 15, 'type': 'artist', 'uri': 'spotify:artist:3Xy9NaVDeAgSxBwXqXu7J0'}]}}\n"
     ]
    }
   ],
   "source": [
    "response_artist_search = requests.get(BASE_URL + 'search?q='+url_artist+'&type=artist', headers=headers) \n",
    "if response_artist.status_code == 200: \n",
    "    print(response_artist_search.json()) # Inspect response by printing it \n",
    "else:\n",
    "    print(response_artist_search.status_code)"
   ]
  },
  {
   "cell_type": "code",
   "execution_count": 160,
   "metadata": {},
   "outputs": [
    {
     "data": {
      "text/plain": [
       "{'href': 'https://api.spotify.com/v1/search?offset=0&limit=20&query=Daft%20Punk&type=artist',\n",
       " 'limit': 20,\n",
       " 'next': 'https://api.spotify.com/v1/search?offset=20&limit=20&query=Daft%20Punk&type=artist',\n",
       " 'offset': 0,\n",
       " 'previous': None,\n",
       " 'total': 811,\n",
       " 'items': [{'external_urls': {'spotify': 'https://open.spotify.com/artist/4tZwfgrHOc3mvqYlEYSvVi'},\n",
       "   'followers': {'href': None, 'total': 10467973},\n",
       "   'genres': ['french house', 'electronic', 'electro'],\n",
       "   'href': 'https://api.spotify.com/v1/artists/4tZwfgrHOc3mvqYlEYSvVi',\n",
       "   'id': '4tZwfgrHOc3mvqYlEYSvVi',\n",
       "   'images': [{'url': 'https://i.scdn.co/image/ab6761610000e5eba7bfd7835b5c1eee0c95fa6e',\n",
       "     'height': 640,\n",
       "     'width': 640},\n",
       "    {'url': 'https://i.scdn.co/image/ab67616100005174a7bfd7835b5c1eee0c95fa6e',\n",
       "     'height': 320,\n",
       "     'width': 320},\n",
       "    {'url': 'https://i.scdn.co/image/ab6761610000f178a7bfd7835b5c1eee0c95fa6e',\n",
       "     'height': 160,\n",
       "     'width': 160}],\n",
       "   'name': 'Daft Punk',\n",
       "   'popularity': 80,\n",
       "   'type': 'artist',\n",
       "   'uri': 'spotify:artist:4tZwfgrHOc3mvqYlEYSvVi'},\n",
       "  {'external_urls': {'spotify': 'https://open.spotify.com/artist/1F83oTuCQlj9S1mUI9vmkm'},\n",
       "   'followers': {'href': None, 'total': 33},\n",
       "   'genres': [],\n",
       "   'href': 'https://api.spotify.com/v1/artists/1F83oTuCQlj9S1mUI9vmkm',\n",
       "   'id': '1F83oTuCQlj9S1mUI9vmkm',\n",
       "   'images': [],\n",
       "   'name': 'Daft Punk (Guy-Manuel de Homem-Christo',\n",
       "   'popularity': 14,\n",
       "   'type': 'artist',\n",
       "   'uri': 'spotify:artist:1F83oTuCQlj9S1mUI9vmkm'},\n",
       "  {'external_urls': {'spotify': 'https://open.spotify.com/artist/1Cs0zKBU1kc0i8ypK3B9ai'},\n",
       "   'followers': {'href': None, 'total': 26816165},\n",
       "   'genres': ['edm', 'dance'],\n",
       "   'href': 'https://api.spotify.com/v1/artists/1Cs0zKBU1kc0i8ypK3B9ai',\n",
       "   'id': '1Cs0zKBU1kc0i8ypK3B9ai',\n",
       "   'images': [{'url': 'https://i.scdn.co/image/ab6761610000e5ebf150017ca69c8793503c2d4f',\n",
       "     'height': 640,\n",
       "     'width': 640},\n",
       "    {'url': 'https://i.scdn.co/image/ab67616100005174f150017ca69c8793503c2d4f',\n",
       "     'height': 320,\n",
       "     'width': 320},\n",
       "    {'url': 'https://i.scdn.co/image/ab6761610000f178f150017ca69c8793503c2d4f',\n",
       "     'height': 160,\n",
       "     'width': 160}],\n",
       "   'name': 'David Guetta',\n",
       "   'popularity': 87,\n",
       "   'type': 'artist',\n",
       "   'uri': 'spotify:artist:1Cs0zKBU1kc0i8ypK3B9ai'},\n",
       "  {'external_urls': {'spotify': 'https://open.spotify.com/artist/36i0ga1yiWUrBBpJQVCsgc'},\n",
       "   'followers': {'href': None, 'total': 352},\n",
       "   'genres': ['phonk'],\n",
       "   'href': 'https://api.spotify.com/v1/artists/36i0ga1yiWUrBBpJQVCsgc',\n",
       "   'id': '36i0ga1yiWUrBBpJQVCsgc',\n",
       "   'images': [{'url': 'https://i.scdn.co/image/ab6761610000e5ebd6a1529ff906e2fe33be6bd9',\n",
       "     'height': 640,\n",
       "     'width': 640},\n",
       "    {'url': 'https://i.scdn.co/image/ab67616100005174d6a1529ff906e2fe33be6bd9',\n",
       "     'height': 320,\n",
       "     'width': 320},\n",
       "    {'url': 'https://i.scdn.co/image/ab6761610000f178d6a1529ff906e2fe33be6bd9',\n",
       "     'height': 160,\n",
       "     'width': 160}],\n",
       "   'name': 'Daft Junk',\n",
       "   'popularity': 27,\n",
       "   'type': 'artist',\n",
       "   'uri': 'spotify:artist:36i0ga1yiWUrBBpJQVCsgc'},\n",
       "  {'external_urls': {'spotify': 'https://open.spotify.com/artist/0VJIBKdqJygrupAxpSTk7q'},\n",
       "   'followers': {'href': None, 'total': 426043},\n",
       "   'genres': [],\n",
       "   'href': 'https://api.spotify.com/v1/artists/0VJIBKdqJygrupAxpSTk7q',\n",
       "   'id': '0VJIBKdqJygrupAxpSTk7q',\n",
       "   'images': [{'url': 'https://i.scdn.co/image/ab6761610000e5eba00de79f74f8874a1cf9f286',\n",
       "     'height': 640,\n",
       "     'width': 640},\n",
       "    {'url': 'https://i.scdn.co/image/ab67616100005174a00de79f74f8874a1cf9f286',\n",
       "     'height': 320,\n",
       "     'width': 320},\n",
       "    {'url': 'https://i.scdn.co/image/ab6761610000f178a00de79f74f8874a1cf9f286',\n",
       "     'height': 160,\n",
       "     'width': 160}],\n",
       "   'name': 'Shaka Ponk',\n",
       "   'popularity': 56,\n",
       "   'type': 'artist',\n",
       "   'uri': 'spotify:artist:0VJIBKdqJygrupAxpSTk7q'},\n",
       "  {'external_urls': {'spotify': 'https://open.spotify.com/artist/3l38jCPrlWn2HZDjZ4xctd'},\n",
       "   'followers': {'href': None, 'total': 4},\n",
       "   'genres': [],\n",
       "   'href': 'https://api.spotify.com/v1/artists/3l38jCPrlWn2HZDjZ4xctd',\n",
       "   'id': '3l38jCPrlWn2HZDjZ4xctd',\n",
       "   'images': [{'url': 'https://i.scdn.co/image/ab67616d0000b273854202e1aea56bb0b7b92845',\n",
       "     'height': 640,\n",
       "     'width': 640},\n",
       "    {'url': 'https://i.scdn.co/image/ab67616d00001e02854202e1aea56bb0b7b92845',\n",
       "     'height': 300,\n",
       "     'width': 300},\n",
       "    {'url': 'https://i.scdn.co/image/ab67616d00004851854202e1aea56bb0b7b92845',\n",
       "     'height': 64,\n",
       "     'width': 64}],\n",
       "   'name': 'Daft Punk Experience',\n",
       "   'popularity': 0,\n",
       "   'type': 'artist',\n",
       "   'uri': 'spotify:artist:3l38jCPrlWn2HZDjZ4xctd'},\n",
       "  {'external_urls': {'spotify': 'https://open.spotify.com/artist/0UF7XLthtbSF2Eur7559oV'},\n",
       "   'followers': {'href': None, 'total': 1001420},\n",
       "   'genres': ['synthwave', 'french house'],\n",
       "   'href': 'https://api.spotify.com/v1/artists/0UF7XLthtbSF2Eur7559oV',\n",
       "   'id': '0UF7XLthtbSF2Eur7559oV',\n",
       "   'images': [{'url': 'https://i.scdn.co/image/ab6761610000e5eb2dc7b3180bad1885c6ee1320',\n",
       "     'height': 640,\n",
       "     'width': 640},\n",
       "    {'url': 'https://i.scdn.co/image/ab676161000051742dc7b3180bad1885c6ee1320',\n",
       "     'height': 320,\n",
       "     'width': 320},\n",
       "    {'url': 'https://i.scdn.co/image/ab6761610000f1782dc7b3180bad1885c6ee1320',\n",
       "     'height': 160,\n",
       "     'width': 160}],\n",
       "   'name': 'Kavinsky',\n",
       "   'popularity': 63,\n",
       "   'type': 'artist',\n",
       "   'uri': 'spotify:artist:0UF7XLthtbSF2Eur7559oV'},\n",
       "  {'external_urls': {'spotify': 'https://open.spotify.com/artist/0f21U8AP6zyqKXWmDj09FO'},\n",
       "   'followers': {'href': None, 'total': 1497},\n",
       "   'genres': [],\n",
       "   'href': 'https://api.spotify.com/v1/artists/0f21U8AP6zyqKXWmDj09FO',\n",
       "   'id': '0f21U8AP6zyqKXWmDj09FO',\n",
       "   'images': [{'url': 'https://i.scdn.co/image/ab6761610000e5eb533602241461c036515a2a80',\n",
       "     'height': 640,\n",
       "     'width': 640},\n",
       "    {'url': 'https://i.scdn.co/image/ab67616100005174533602241461c036515a2a80',\n",
       "     'height': 320,\n",
       "     'width': 320},\n",
       "    {'url': 'https://i.scdn.co/image/ab6761610000f178533602241461c036515a2a80',\n",
       "     'height': 160,\n",
       "     'width': 160}],\n",
       "   'name': 'Daft Phonk',\n",
       "   'popularity': 12,\n",
       "   'type': 'artist',\n",
       "   'uri': 'spotify:artist:0f21U8AP6zyqKXWmDj09FO'},\n",
       "  {'external_urls': {'spotify': 'https://open.spotify.com/artist/1gR0gsQYfi6joyO1dlp76N'},\n",
       "   'followers': {'href': None, 'total': 1328239},\n",
       "   'genres': ['french house', 'new rave', 'electronic rock'],\n",
       "   'href': 'https://api.spotify.com/v1/artists/1gR0gsQYfi6joyO1dlp76N',\n",
       "   'id': '1gR0gsQYfi6joyO1dlp76N',\n",
       "   'images': [{'url': 'https://i.scdn.co/image/ab6761610000e5ebf140c161d9f9cc9afe85b6ed',\n",
       "     'height': 640,\n",
       "     'width': 640},\n",
       "    {'url': 'https://i.scdn.co/image/ab67616100005174f140c161d9f9cc9afe85b6ed',\n",
       "     'height': 320,\n",
       "     'width': 320},\n",
       "    {'url': 'https://i.scdn.co/image/ab6761610000f178f140c161d9f9cc9afe85b6ed',\n",
       "     'height': 160,\n",
       "     'width': 160}],\n",
       "   'name': 'Justice',\n",
       "   'popularity': 71,\n",
       "   'type': 'artist',\n",
       "   'uri': 'spotify:artist:1gR0gsQYfi6joyO1dlp76N'},\n",
       "  {'external_urls': {'spotify': 'https://open.spotify.com/artist/0T9UX7X5QebNuRbioQG9af'},\n",
       "   'followers': {'href': None, 'total': 21},\n",
       "   'genres': [],\n",
       "   'href': 'https://api.spotify.com/v1/artists/0T9UX7X5QebNuRbioQG9af',\n",
       "   'id': '0T9UX7X5QebNuRbioQG9af',\n",
       "   'images': [{'url': 'https://i.scdn.co/image/ab6761610000e5eb0945533ed74ebf56df3f407d',\n",
       "     'height': 640,\n",
       "     'width': 640},\n",
       "    {'url': 'https://i.scdn.co/image/ab676161000051740945533ed74ebf56df3f407d',\n",
       "     'height': 320,\n",
       "     'width': 320},\n",
       "    {'url': 'https://i.scdn.co/image/ab6761610000f1780945533ed74ebf56df3f407d',\n",
       "     'height': 160,\n",
       "     'width': 160}],\n",
       "   'name': 'Punky Daftr',\n",
       "   'popularity': 0,\n",
       "   'type': 'artist',\n",
       "   'uri': 'spotify:artist:0T9UX7X5QebNuRbioQG9af'},\n",
       "  {'external_urls': {'spotify': 'https://open.spotify.com/artist/3CnCGFxXbOA8bAK54jR8js'},\n",
       "   'followers': {'href': None, 'total': 1295270},\n",
       "   'genres': ['pop urbaine'],\n",
       "   'href': 'https://api.spotify.com/v1/artists/3CnCGFxXbOA8bAK54jR8js',\n",
       "   'id': '3CnCGFxXbOA8bAK54jR8js',\n",
       "   'images': [{'url': 'https://i.scdn.co/image/ab6761610000e5ebbb5d08bce59cfcc825c301f4',\n",
       "     'height': 640,\n",
       "     'width': 640},\n",
       "    {'url': 'https://i.scdn.co/image/ab67616100005174bb5d08bce59cfcc825c301f4',\n",
       "     'height': 320,\n",
       "     'width': 320},\n",
       "    {'url': 'https://i.scdn.co/image/ab6761610000f178bb5d08bce59cfcc825c301f4',\n",
       "     'height': 160,\n",
       "     'width': 160}],\n",
       "   'name': 'Vald',\n",
       "   'popularity': 59,\n",
       "   'type': 'artist',\n",
       "   'uri': 'spotify:artist:3CnCGFxXbOA8bAK54jR8js'},\n",
       "  {'external_urls': {'spotify': 'https://open.spotify.com/artist/19652sgLSyIkcGOvVFv7MZ'},\n",
       "   'followers': {'href': None, 'total': 5},\n",
       "   'genres': [],\n",
       "   'href': 'https://api.spotify.com/v1/artists/19652sgLSyIkcGOvVFv7MZ',\n",
       "   'id': '19652sgLSyIkcGOvVFv7MZ',\n",
       "   'images': [{'url': 'https://i.scdn.co/image/ab67616d0000b2733170925aae3ffd3d3486930c',\n",
       "     'height': 640,\n",
       "     'width': 640},\n",
       "    {'url': 'https://i.scdn.co/image/ab67616d00001e023170925aae3ffd3d3486930c',\n",
       "     'height': 300,\n",
       "     'width': 300},\n",
       "    {'url': 'https://i.scdn.co/image/ab67616d000048513170925aae3ffd3d3486930c',\n",
       "     'height': 64,\n",
       "     'width': 64}],\n",
       "   'name': 'Project Daft Punk',\n",
       "   'popularity': 0,\n",
       "   'type': 'artist',\n",
       "   'uri': 'spotify:artist:19652sgLSyIkcGOvVFv7MZ'},\n",
       "  {'external_urls': {'spotify': 'https://open.spotify.com/artist/7rz6ZZErn5YFDteXKhyf3g'},\n",
       "   'followers': {'href': None, 'total': 307747},\n",
       "   'genres': [],\n",
       "   'href': 'https://api.spotify.com/v1/artists/7rz6ZZErn5YFDteXKhyf3g',\n",
       "   'id': '7rz6ZZErn5YFDteXKhyf3g',\n",
       "   'images': [{'url': 'https://i.scdn.co/image/ab6761610000e5eb1c4076f607e591ea865c8c3d',\n",
       "     'height': 640,\n",
       "     'width': 640},\n",
       "    {'url': 'https://i.scdn.co/image/ab676161000051741c4076f607e591ea865c8c3d',\n",
       "     'height': 320,\n",
       "     'width': 320},\n",
       "    {'url': 'https://i.scdn.co/image/ab6761610000f1781c4076f607e591ea865c8c3d',\n",
       "     'height': 160,\n",
       "     'width': 160}],\n",
       "   'name': 'Disiz',\n",
       "   'popularity': 55,\n",
       "   'type': 'artist',\n",
       "   'uri': 'spotify:artist:7rz6ZZErn5YFDteXKhyf3g'},\n",
       "  {'external_urls': {'spotify': 'https://open.spotify.com/artist/2ofKDDy4ZPXXO9zaNXwKvm'},\n",
       "   'followers': {'href': None, 'total': 84},\n",
       "   'genres': [],\n",
       "   'href': 'https://api.spotify.com/v1/artists/2ofKDDy4ZPXXO9zaNXwKvm',\n",
       "   'id': '2ofKDDy4ZPXXO9zaNXwKvm',\n",
       "   'images': [{'url': 'https://i.scdn.co/image/ab67616d0000b27390270c51e31e466c4876edb2',\n",
       "     'height': 640,\n",
       "     'width': 640},\n",
       "    {'url': 'https://i.scdn.co/image/ab67616d00001e0290270c51e31e466c4876edb2',\n",
       "     'height': 300,\n",
       "     'width': 300},\n",
       "    {'url': 'https://i.scdn.co/image/ab67616d0000485190270c51e31e466c4876edb2',\n",
       "     'height': 64,\n",
       "     'width': 64}],\n",
       "   'name': \"Daft Punk's Karaoke Band\",\n",
       "   'popularity': 0,\n",
       "   'type': 'artist',\n",
       "   'uri': 'spotify:artist:2ofKDDy4ZPXXO9zaNXwKvm'},\n",
       "  {'external_urls': {'spotify': 'https://open.spotify.com/artist/1xU878Z1QtBldR7ru9owdU'},\n",
       "   'followers': {'href': None, 'total': 1961273},\n",
       "   'genres': ['indie'],\n",
       "   'href': 'https://api.spotify.com/v1/artists/1xU878Z1QtBldR7ru9owdU',\n",
       "   'id': '1xU878Z1QtBldR7ru9owdU',\n",
       "   'images': [{'url': 'https://i.scdn.co/image/ab6761610000e5eb722051daeb10119e2e039724',\n",
       "     'height': 640,\n",
       "     'width': 640},\n",
       "    {'url': 'https://i.scdn.co/image/ab67616100005174722051daeb10119e2e039724',\n",
       "     'height': 320,\n",
       "     'width': 320},\n",
       "    {'url': 'https://i.scdn.co/image/ab6761610000f178722051daeb10119e2e039724',\n",
       "     'height': 160,\n",
       "     'width': 160}],\n",
       "   'name': 'Phoenix',\n",
       "   'popularity': 65,\n",
       "   'type': 'artist',\n",
       "   'uri': 'spotify:artist:1xU878Z1QtBldR7ru9owdU'},\n",
       "  {'external_urls': {'spotify': 'https://open.spotify.com/artist/7CTejuKlwb0KuJQP80OAOZ'},\n",
       "   'followers': {'href': None, 'total': 19},\n",
       "   'genres': [],\n",
       "   'href': 'https://api.spotify.com/v1/artists/7CTejuKlwb0KuJQP80OAOZ',\n",
       "   'id': '7CTejuKlwb0KuJQP80OAOZ',\n",
       "   'images': [{'url': 'https://i.scdn.co/image/ab67616d0000b2733cc3804c1e3e6243c2fb1245',\n",
       "     'height': 640,\n",
       "     'width': 640},\n",
       "    {'url': 'https://i.scdn.co/image/ab67616d00001e023cc3804c1e3e6243c2fb1245',\n",
       "     'height': 300,\n",
       "     'width': 300},\n",
       "    {'url': 'https://i.scdn.co/image/ab67616d000048513cc3804c1e3e6243c2fb1245',\n",
       "     'height': 64,\n",
       "     'width': 64}],\n",
       "   'name': 'Daft Pink',\n",
       "   'popularity': 12,\n",
       "   'type': 'artist',\n",
       "   'uri': 'spotify:artist:7CTejuKlwb0KuJQP80OAOZ'},\n",
       "  {'external_urls': {'spotify': 'https://open.spotify.com/artist/12Chz98pHFMPJEknJQMWvI'},\n",
       "   'followers': {'href': None, 'total': 8144661},\n",
       "   'genres': ['alternative rock', 'rock'],\n",
       "   'href': 'https://api.spotify.com/v1/artists/12Chz98pHFMPJEknJQMWvI',\n",
       "   'id': '12Chz98pHFMPJEknJQMWvI',\n",
       "   'images': [{'url': 'https://i.scdn.co/image/ab6761610000e5eb0accbbe13e1aa147dd27671c',\n",
       "     'height': 640,\n",
       "     'width': 640},\n",
       "    {'url': 'https://i.scdn.co/image/ab676161000051740accbbe13e1aa147dd27671c',\n",
       "     'height': 320,\n",
       "     'width': 320},\n",
       "    {'url': 'https://i.scdn.co/image/ab6761610000f1780accbbe13e1aa147dd27671c',\n",
       "     'height': 160,\n",
       "     'width': 160}],\n",
       "   'name': 'Muse',\n",
       "   'popularity': 75,\n",
       "   'type': 'artist',\n",
       "   'uri': 'spotify:artist:12Chz98pHFMPJEknJQMWvI'},\n",
       "  {'external_urls': {'spotify': 'https://open.spotify.com/artist/50jJ85CM01qll8yF0kflpm'},\n",
       "   'followers': {'href': None, 'total': 86},\n",
       "   'genres': [],\n",
       "   'href': 'https://api.spotify.com/v1/artists/50jJ85CM01qll8yF0kflpm',\n",
       "   'id': '50jJ85CM01qll8yF0kflpm',\n",
       "   'images': [],\n",
       "   'name': 'Made famous by Daft Punk',\n",
       "   'popularity': 0,\n",
       "   'type': 'artist',\n",
       "   'uri': 'spotify:artist:50jJ85CM01qll8yF0kflpm'},\n",
       "  {'external_urls': {'spotify': 'https://open.spotify.com/artist/56Q6weEROZ1RsVrTak8Bm7'},\n",
       "   'followers': {'href': None, 'total': 664516},\n",
       "   'genres': [],\n",
       "   'href': 'https://api.spotify.com/v1/artists/56Q6weEROZ1RsVrTak8Bm7',\n",
       "   'id': '56Q6weEROZ1RsVrTak8Bm7',\n",
       "   'images': [{'url': 'https://i.scdn.co/image/ce03b673d12a1b23eecc4c3f790e36ea6005aa42',\n",
       "     'height': 1000,\n",
       "     'width': 1000},\n",
       "    {'url': 'https://i.scdn.co/image/1839b461bcc9a0f014441074bbb971806af6bff0',\n",
       "     'height': 640,\n",
       "     'width': 640},\n",
       "    {'url': 'https://i.scdn.co/image/210db36e46b7a7d5a4cccb16e722a605f17e9ab9',\n",
       "     'height': 200,\n",
       "     'width': 200},\n",
       "    {'url': 'https://i.scdn.co/image/cc683815765e094322acb2edcc86e360ba88f206',\n",
       "     'height': 64,\n",
       "     'width': 64}],\n",
       "   'name': 'IAM',\n",
       "   'popularity': 53,\n",
       "   'type': 'artist',\n",
       "   'uri': 'spotify:artist:56Q6weEROZ1RsVrTak8Bm7'},\n",
       "  {'external_urls': {'spotify': 'https://open.spotify.com/artist/3Xy9NaVDeAgSxBwXqXu7J0'},\n",
       "   'followers': {'href': None, 'total': 6032},\n",
       "   'genres': ['folk', 'folk punk'],\n",
       "   'href': 'https://api.spotify.com/v1/artists/3Xy9NaVDeAgSxBwXqXu7J0',\n",
       "   'id': '3Xy9NaVDeAgSxBwXqXu7J0',\n",
       "   'images': [{'url': 'https://i.scdn.co/image/ab67616d0000b273afa434140e9326a7db54e64d',\n",
       "     'height': 640,\n",
       "     'width': 640},\n",
       "    {'url': 'https://i.scdn.co/image/ab67616d00001e02afa434140e9326a7db54e64d',\n",
       "     'height': 300,\n",
       "     'width': 300},\n",
       "    {'url': 'https://i.scdn.co/image/ab67616d000048516ad6c642c974e010fcf769d1',\n",
       "     'height': 64,\n",
       "     'width': 64}],\n",
       "   'name': '3 Daft Monkeys',\n",
       "   'popularity': 15,\n",
       "   'type': 'artist',\n",
       "   'uri': 'spotify:artist:3Xy9NaVDeAgSxBwXqXu7J0'}]}"
      ]
     },
     "execution_count": 160,
     "metadata": {},
     "output_type": "execute_result"
    }
   ],
   "source": [
    "# get artist's spotify id from key 'artists'\n",
    "response_artist_search.json().get('artists')"
   ]
  },
  {
   "cell_type": "code",
   "execution_count": 161,
   "metadata": {},
   "outputs": [
    {
     "data": {
      "text/plain": [
       "'4tZwfgrHOc3mvqYlEYSvVi'"
      ]
     },
     "execution_count": 161,
     "metadata": {},
     "output_type": "execute_result"
    }
   ],
   "source": [
    "response_artist_search.json().get('artists')['items'][0]['id']"
   ]
  },
  {
   "cell_type": "markdown",
   "metadata": {},
   "source": [
    "### Use it to get nb of followers and genres"
   ]
  },
  {
   "cell_type": "code",
   "execution_count": 162,
   "metadata": {},
   "outputs": [
    {
     "name": "stdout",
     "output_type": "stream",
     "text": [
      "{'external_urls': {'spotify': 'https://open.spotify.com/artist/4tZwfgrHOc3mvqYlEYSvVi'}, 'followers': {'href': None, 'total': 10467973}, 'genres': ['french house', 'electronic', 'electro'], 'href': 'https://api.spotify.com/v1/artists/4tZwfgrHOc3mvqYlEYSvVi', 'id': '4tZwfgrHOc3mvqYlEYSvVi', 'images': [{'url': 'https://i.scdn.co/image/ab6761610000e5eba7bfd7835b5c1eee0c95fa6e', 'height': 640, 'width': 640}, {'url': 'https://i.scdn.co/image/ab67616100005174a7bfd7835b5c1eee0c95fa6e', 'height': 320, 'width': 320}, {'url': 'https://i.scdn.co/image/ab6761610000f178a7bfd7835b5c1eee0c95fa6e', 'height': 160, 'width': 160}], 'name': 'Daft Punk', 'popularity': 80, 'type': 'artist', 'uri': 'spotify:artist:4tZwfgrHOc3mvqYlEYSvVi'}\n"
     ]
    }
   ],
   "source": [
    "artist_id = response_artist_search.json().get('artists')['items'][0]['id']\n",
    "\n",
    "response_artist_searched = requests.get(BASE_URL + 'artists/'+artist_id, headers=headers) \n",
    "if response_artist_searched.status_code == 200: \n",
    "    print(response_artist_searched.json()) # Inspect response by printing it \n",
    "else:\n",
    "    print(response_artist_searched.status_code)\n"
   ]
  },
  {
   "cell_type": "code",
   "execution_count": 163,
   "metadata": {},
   "outputs": [
    {
     "name": "stdout",
     "output_type": "stream",
     "text": [
      "nb of followers for Daft Punk = 10467973\n",
      " 2 Genre(s) associated = ['art rock', 'alternative rock']\n"
     ]
    }
   ],
   "source": [
    "followers_2 = response_artist_searched.json().get('followers')['total']\n",
    "name_2 = response_artist_searched.json().get('name')\n",
    "genres_2 = response_artist.json().get('genres')\n",
    "print(f\"nb of followers for {name_2} = {followers_2}\\n {len(genres_2)} Genre(s) associated = {genres_2}\")"
   ]
  },
  {
   "cell_type": "markdown",
   "metadata": {},
   "source": [
    "## 2.3. For a list of artists for whom we have got the names only"
   ]
  },
  {
   "cell_type": "markdown",
   "metadata": {},
   "source": [
    "### a. First get the list of artist: for example, an extract of 2023 Most streamed songs"
   ]
  },
  {
   "cell_type": "code",
   "execution_count": 164,
   "metadata": {},
   "outputs": [
    {
     "data": {
      "text/html": [
       "<div>\n",
       "<style scoped>\n",
       "    .dataframe tbody tr th:only-of-type {\n",
       "        vertical-align: middle;\n",
       "    }\n",
       "\n",
       "    .dataframe tbody tr th {\n",
       "        vertical-align: top;\n",
       "    }\n",
       "\n",
       "    .dataframe thead th {\n",
       "        text-align: right;\n",
       "    }\n",
       "</style>\n",
       "<table border=\"1\" class=\"dataframe\">\n",
       "  <thead>\n",
       "    <tr style=\"text-align: right;\">\n",
       "      <th></th>\n",
       "      <th>Unnamed: 0</th>\n",
       "      <th>track_name</th>\n",
       "      <th>artist(s)_name</th>\n",
       "      <th>artist_count</th>\n",
       "      <th>released_year</th>\n",
       "      <th>released_month</th>\n",
       "      <th>released_day</th>\n",
       "      <th>in_spotify_playlists</th>\n",
       "      <th>in_spotify_charts</th>\n",
       "      <th>streams</th>\n",
       "      <th>...</th>\n",
       "      <th>mode</th>\n",
       "      <th>danceability_%</th>\n",
       "      <th>valence_%</th>\n",
       "      <th>energy_%</th>\n",
       "      <th>acousticness_%</th>\n",
       "      <th>instrumentalness_%</th>\n",
       "      <th>liveness_%</th>\n",
       "      <th>speechiness_%</th>\n",
       "      <th>released_date</th>\n",
       "      <th>rank_streams</th>\n",
       "    </tr>\n",
       "  </thead>\n",
       "  <tbody>\n",
       "    <tr>\n",
       "      <th>0</th>\n",
       "      <td>0</td>\n",
       "      <td>Seven (feat. Latto) (Explicit Ver.)</td>\n",
       "      <td>Latto, Jung Kook</td>\n",
       "      <td>2</td>\n",
       "      <td>2023</td>\n",
       "      <td>7</td>\n",
       "      <td>14</td>\n",
       "      <td>553</td>\n",
       "      <td>147</td>\n",
       "      <td>141381703</td>\n",
       "      <td>...</td>\n",
       "      <td>Major</td>\n",
       "      <td>80</td>\n",
       "      <td>89</td>\n",
       "      <td>83</td>\n",
       "      <td>31</td>\n",
       "      <td>0</td>\n",
       "      <td>8</td>\n",
       "      <td>4</td>\n",
       "      <td>2023-07-14</td>\n",
       "      <td>0</td>\n",
       "    </tr>\n",
       "    <tr>\n",
       "      <th>1</th>\n",
       "      <td>1</td>\n",
       "      <td>LALA</td>\n",
       "      <td>Myke Towers</td>\n",
       "      <td>1</td>\n",
       "      <td>2023</td>\n",
       "      <td>3</td>\n",
       "      <td>23</td>\n",
       "      <td>1474</td>\n",
       "      <td>48</td>\n",
       "      <td>133716286</td>\n",
       "      <td>...</td>\n",
       "      <td>Major</td>\n",
       "      <td>71</td>\n",
       "      <td>61</td>\n",
       "      <td>74</td>\n",
       "      <td>7</td>\n",
       "      <td>0</td>\n",
       "      <td>10</td>\n",
       "      <td>4</td>\n",
       "      <td>2023-03-23</td>\n",
       "      <td>1</td>\n",
       "    </tr>\n",
       "    <tr>\n",
       "      <th>2</th>\n",
       "      <td>2</td>\n",
       "      <td>vampire</td>\n",
       "      <td>Olivia Rodrigo</td>\n",
       "      <td>1</td>\n",
       "      <td>2023</td>\n",
       "      <td>6</td>\n",
       "      <td>30</td>\n",
       "      <td>1397</td>\n",
       "      <td>113</td>\n",
       "      <td>140003974</td>\n",
       "      <td>...</td>\n",
       "      <td>Major</td>\n",
       "      <td>51</td>\n",
       "      <td>32</td>\n",
       "      <td>53</td>\n",
       "      <td>17</td>\n",
       "      <td>0</td>\n",
       "      <td>31</td>\n",
       "      <td>6</td>\n",
       "      <td>2023-06-30</td>\n",
       "      <td>2</td>\n",
       "    </tr>\n",
       "    <tr>\n",
       "      <th>3</th>\n",
       "      <td>3</td>\n",
       "      <td>Cruel Summer</td>\n",
       "      <td>Taylor Swift</td>\n",
       "      <td>1</td>\n",
       "      <td>2019</td>\n",
       "      <td>8</td>\n",
       "      <td>23</td>\n",
       "      <td>7858</td>\n",
       "      <td>100</td>\n",
       "      <td>800840817</td>\n",
       "      <td>...</td>\n",
       "      <td>Major</td>\n",
       "      <td>55</td>\n",
       "      <td>58</td>\n",
       "      <td>72</td>\n",
       "      <td>11</td>\n",
       "      <td>0</td>\n",
       "      <td>11</td>\n",
       "      <td>15</td>\n",
       "      <td>2019-08-23</td>\n",
       "      <td>3</td>\n",
       "    </tr>\n",
       "    <tr>\n",
       "      <th>4</th>\n",
       "      <td>4</td>\n",
       "      <td>WHERE SHE GOES</td>\n",
       "      <td>Bad Bunny</td>\n",
       "      <td>1</td>\n",
       "      <td>2023</td>\n",
       "      <td>5</td>\n",
       "      <td>18</td>\n",
       "      <td>3133</td>\n",
       "      <td>50</td>\n",
       "      <td>303236322</td>\n",
       "      <td>...</td>\n",
       "      <td>Minor</td>\n",
       "      <td>65</td>\n",
       "      <td>23</td>\n",
       "      <td>80</td>\n",
       "      <td>14</td>\n",
       "      <td>63</td>\n",
       "      <td>11</td>\n",
       "      <td>6</td>\n",
       "      <td>2023-05-18</td>\n",
       "      <td>4</td>\n",
       "    </tr>\n",
       "  </tbody>\n",
       "</table>\n",
       "<p>5 rows × 22 columns</p>\n",
       "</div>"
      ],
      "text/plain": [
       "   Unnamed: 0                           track_name    artist(s)_name  \\\n",
       "0           0  Seven (feat. Latto) (Explicit Ver.)  Latto, Jung Kook   \n",
       "1           1                                 LALA       Myke Towers   \n",
       "2           2                              vampire    Olivia Rodrigo   \n",
       "3           3                         Cruel Summer      Taylor Swift   \n",
       "4           4                       WHERE SHE GOES         Bad Bunny   \n",
       "\n",
       "   artist_count  released_year  released_month  released_day  \\\n",
       "0             2           2023               7            14   \n",
       "1             1           2023               3            23   \n",
       "2             1           2023               6            30   \n",
       "3             1           2019               8            23   \n",
       "4             1           2023               5            18   \n",
       "\n",
       "   in_spotify_playlists  in_spotify_charts    streams  ...   mode  \\\n",
       "0                   553                147  141381703  ...  Major   \n",
       "1                  1474                 48  133716286  ...  Major   \n",
       "2                  1397                113  140003974  ...  Major   \n",
       "3                  7858                100  800840817  ...  Major   \n",
       "4                  3133                 50  303236322  ...  Minor   \n",
       "\n",
       "  danceability_% valence_%  energy_%  acousticness_%  instrumentalness_%  \\\n",
       "0             80        89        83              31                   0   \n",
       "1             71        61        74               7                   0   \n",
       "2             51        32        53              17                   0   \n",
       "3             55        58        72              11                   0   \n",
       "4             65        23        80              14                  63   \n",
       "\n",
       "   liveness_%  speechiness_%  released_date  rank_streams  \n",
       "0           8              4     2023-07-14             0  \n",
       "1          10              4     2023-03-23             1  \n",
       "2          31              6     2023-06-30             2  \n",
       "3          11             15     2019-08-23             3  \n",
       "4          11              6     2023-05-18             4  \n",
       "\n",
       "[5 rows x 22 columns]"
      ]
     },
     "execution_count": 164,
     "metadata": {},
     "output_type": "execute_result"
    }
   ],
   "source": [
    "filepath = os.path.join('..','data','2023_Most_Streamed_clean.csv')\n",
    "df = pd.read_csv(filepath)\n",
    "df.head()"
   ]
  },
  {
   "cell_type": "code",
   "execution_count": 165,
   "metadata": {},
   "outputs": [
    {
     "data": {
      "text/html": [
       "<div>\n",
       "<style scoped>\n",
       "    .dataframe tbody tr th:only-of-type {\n",
       "        vertical-align: middle;\n",
       "    }\n",
       "\n",
       "    .dataframe tbody tr th {\n",
       "        vertical-align: top;\n",
       "    }\n",
       "\n",
       "    .dataframe thead th {\n",
       "        text-align: right;\n",
       "    }\n",
       "</style>\n",
       "<table border=\"1\" class=\"dataframe\">\n",
       "  <thead>\n",
       "    <tr style=\"text-align: right;\">\n",
       "      <th></th>\n",
       "      <th>artist(s)_name</th>\n",
       "      <th>artist_count</th>\n",
       "      <th>streams</th>\n",
       "    </tr>\n",
       "  </thead>\n",
       "  <tbody>\n",
       "    <tr>\n",
       "      <th>0</th>\n",
       "      <td>Latto, Jung Kook</td>\n",
       "      <td>2</td>\n",
       "      <td>141381703</td>\n",
       "    </tr>\n",
       "    <tr>\n",
       "      <th>1</th>\n",
       "      <td>Myke Towers</td>\n",
       "      <td>1</td>\n",
       "      <td>133716286</td>\n",
       "    </tr>\n",
       "    <tr>\n",
       "      <th>2</th>\n",
       "      <td>Olivia Rodrigo</td>\n",
       "      <td>1</td>\n",
       "      <td>140003974</td>\n",
       "    </tr>\n",
       "    <tr>\n",
       "      <th>3</th>\n",
       "      <td>Taylor Swift</td>\n",
       "      <td>1</td>\n",
       "      <td>800840817</td>\n",
       "    </tr>\n",
       "    <tr>\n",
       "      <th>4</th>\n",
       "      <td>Bad Bunny</td>\n",
       "      <td>1</td>\n",
       "      <td>303236322</td>\n",
       "    </tr>\n",
       "  </tbody>\n",
       "</table>\n",
       "</div>"
      ],
      "text/plain": [
       "     artist(s)_name  artist_count    streams\n",
       "0  Latto, Jung Kook             2  141381703\n",
       "1       Myke Towers             1  133716286\n",
       "2    Olivia Rodrigo             1  140003974\n",
       "3      Taylor Swift             1  800840817\n",
       "4         Bad Bunny             1  303236322"
      ]
     },
     "execution_count": 165,
     "metadata": {},
     "output_type": "execute_result"
    }
   ],
   "source": [
    "# We only keep the artist column and the 5 first artists\n",
    "df = df[['artist(s)_name','artist_count','streams']]\n",
    "df = df.iloc[:5]\n",
    "df"
   ]
  },
  {
   "cell_type": "code",
   "execution_count": 166,
   "metadata": {},
   "outputs": [
    {
     "data": {
      "text/plain": [
       "'Latto'"
      ]
     },
     "execution_count": 166,
     "metadata": {},
     "output_type": "execute_result"
    }
   ],
   "source": [
    "# We get the information artist by artist esp. the main artist\n",
    "def f(row):\n",
    "    if row['artist_count'] == 1:\n",
    "        val = row['artist(s)_name']\n",
    "    else:\n",
    "        i = row['artist(s)_name'].find(',')\n",
    "        val = row['artist(s)_name'][:i]\n",
    "    return val\n",
    "\n",
    "f(df.iloc[0])"
   ]
  },
  {
   "cell_type": "code",
   "execution_count": 167,
   "metadata": {},
   "outputs": [
    {
     "data": {
      "text/plain": [
       "'Jung Kook'"
      ]
     },
     "execution_count": 167,
     "metadata": {},
     "output_type": "execute_result"
    }
   ],
   "source": [
    "def g(row):\n",
    "    if row['artist_count'] == 1:\n",
    "        val = \"\"\n",
    "    else:\n",
    "        i = row['artist(s)_name'].find(',')\n",
    "        val = row['artist(s)_name'][i+2:]\n",
    "    return val\n",
    "\n",
    "g(df.iloc[0])"
   ]
  },
  {
   "cell_type": "code",
   "execution_count": 168,
   "metadata": {},
   "outputs": [
    {
     "data": {
      "text/html": [
       "<div>\n",
       "<style scoped>\n",
       "    .dataframe tbody tr th:only-of-type {\n",
       "        vertical-align: middle;\n",
       "    }\n",
       "\n",
       "    .dataframe tbody tr th {\n",
       "        vertical-align: top;\n",
       "    }\n",
       "\n",
       "    .dataframe thead th {\n",
       "        text-align: right;\n",
       "    }\n",
       "</style>\n",
       "<table border=\"1\" class=\"dataframe\">\n",
       "  <thead>\n",
       "    <tr style=\"text-align: right;\">\n",
       "      <th></th>\n",
       "      <th>artist(s)_name</th>\n",
       "      <th>artist_count</th>\n",
       "      <th>streams</th>\n",
       "      <th>artist_1</th>\n",
       "      <th>other artists</th>\n",
       "    </tr>\n",
       "  </thead>\n",
       "  <tbody>\n",
       "    <tr>\n",
       "      <th>0</th>\n",
       "      <td>Latto, Jung Kook</td>\n",
       "      <td>2</td>\n",
       "      <td>141381703</td>\n",
       "      <td>Latto</td>\n",
       "      <td>Jung Kook</td>\n",
       "    </tr>\n",
       "    <tr>\n",
       "      <th>1</th>\n",
       "      <td>Myke Towers</td>\n",
       "      <td>1</td>\n",
       "      <td>133716286</td>\n",
       "      <td>Myke Towers</td>\n",
       "      <td></td>\n",
       "    </tr>\n",
       "    <tr>\n",
       "      <th>2</th>\n",
       "      <td>Olivia Rodrigo</td>\n",
       "      <td>1</td>\n",
       "      <td>140003974</td>\n",
       "      <td>Olivia Rodrigo</td>\n",
       "      <td></td>\n",
       "    </tr>\n",
       "    <tr>\n",
       "      <th>3</th>\n",
       "      <td>Taylor Swift</td>\n",
       "      <td>1</td>\n",
       "      <td>800840817</td>\n",
       "      <td>Taylor Swift</td>\n",
       "      <td></td>\n",
       "    </tr>\n",
       "    <tr>\n",
       "      <th>4</th>\n",
       "      <td>Bad Bunny</td>\n",
       "      <td>1</td>\n",
       "      <td>303236322</td>\n",
       "      <td>Bad Bunny</td>\n",
       "      <td></td>\n",
       "    </tr>\n",
       "  </tbody>\n",
       "</table>\n",
       "</div>"
      ],
      "text/plain": [
       "     artist(s)_name  artist_count    streams        artist_1 other artists\n",
       "0  Latto, Jung Kook             2  141381703           Latto     Jung Kook\n",
       "1       Myke Towers             1  133716286     Myke Towers              \n",
       "2    Olivia Rodrigo             1  140003974  Olivia Rodrigo              \n",
       "3      Taylor Swift             1  800840817    Taylor Swift              \n",
       "4         Bad Bunny             1  303236322       Bad Bunny              "
      ]
     },
     "execution_count": 168,
     "metadata": {},
     "output_type": "execute_result"
    }
   ],
   "source": [
    "df['artist_1']=df.apply(f, axis=1)\n",
    "df['other artists']=df.apply(g, axis=1)\n",
    "df"
   ]
  },
  {
   "cell_type": "markdown",
   "metadata": {},
   "source": [
    "### b. Now retrieve Spotify ID for those artists & get nb of followers "
   ]
  },
  {
   "cell_type": "code",
   "execution_count": null,
   "metadata": {},
   "outputs": [
    {
     "data": {
      "text/plain": [
       "1932096"
      ]
     },
     "execution_count": 169,
     "metadata": {},
     "output_type": "execute_result"
    }
   ],
   "source": [
    "def fetch_followers(row):\n",
    "    artist_name= row['artist_1']\n",
    "    url_artist=artist_name.replace(' ','+')\n",
    "    response_artist_search = requests.get(BASE_URL + 'search?q='+url_artist+'&type=artist', headers=headers) \n",
    "    \n",
    "    if response_artist_search.status_code == 200: \n",
    "        artist_id = response_artist_search.json().get('artists')['items'][0]['id']\n",
    "        response_artist_found = requests.get(BASE_URL + 'artists/'+artist_id, headers=headers) \n",
    "        if response_artist_found.status_code == 200: \n",
    "            followers = response_artist_found.json().get('followers')['total'] \n",
    "            return followers\n",
    "        else:\n",
    "            return \"Error: \"+ str(response_artist_found.status_code)\n",
    "    else:\n",
    "        return \"Error: \"+ str(response_artist_search.status_code)\n",
    "\n",
    "\n",
    "fetch_followers(df.iloc[0])"
   ]
  },
  {
   "cell_type": "code",
   "execution_count": 170,
   "metadata": {},
   "outputs": [
    {
     "data": {
      "text/html": [
       "<div>\n",
       "<style scoped>\n",
       "    .dataframe tbody tr th:only-of-type {\n",
       "        vertical-align: middle;\n",
       "    }\n",
       "\n",
       "    .dataframe tbody tr th {\n",
       "        vertical-align: top;\n",
       "    }\n",
       "\n",
       "    .dataframe thead th {\n",
       "        text-align: right;\n",
       "    }\n",
       "</style>\n",
       "<table border=\"1\" class=\"dataframe\">\n",
       "  <thead>\n",
       "    <tr style=\"text-align: right;\">\n",
       "      <th></th>\n",
       "      <th>artist(s)_name</th>\n",
       "      <th>artist_count</th>\n",
       "      <th>streams</th>\n",
       "      <th>artist_1</th>\n",
       "      <th>other artists</th>\n",
       "      <th>spotify_followers_1_feb25</th>\n",
       "    </tr>\n",
       "  </thead>\n",
       "  <tbody>\n",
       "    <tr>\n",
       "      <th>0</th>\n",
       "      <td>Latto, Jung Kook</td>\n",
       "      <td>2</td>\n",
       "      <td>141381703</td>\n",
       "      <td>Latto</td>\n",
       "      <td>Jung Kook</td>\n",
       "      <td>1932096</td>\n",
       "    </tr>\n",
       "    <tr>\n",
       "      <th>1</th>\n",
       "      <td>Myke Towers</td>\n",
       "      <td>1</td>\n",
       "      <td>133716286</td>\n",
       "      <td>Myke Towers</td>\n",
       "      <td></td>\n",
       "      <td>18689633</td>\n",
       "    </tr>\n",
       "    <tr>\n",
       "      <th>2</th>\n",
       "      <td>Olivia Rodrigo</td>\n",
       "      <td>1</td>\n",
       "      <td>140003974</td>\n",
       "      <td>Olivia Rodrigo</td>\n",
       "      <td></td>\n",
       "      <td>43692709</td>\n",
       "    </tr>\n",
       "    <tr>\n",
       "      <th>3</th>\n",
       "      <td>Taylor Swift</td>\n",
       "      <td>1</td>\n",
       "      <td>800840817</td>\n",
       "      <td>Taylor Swift</td>\n",
       "      <td></td>\n",
       "      <td>132360746</td>\n",
       "    </tr>\n",
       "    <tr>\n",
       "      <th>4</th>\n",
       "      <td>Bad Bunny</td>\n",
       "      <td>1</td>\n",
       "      <td>303236322</td>\n",
       "      <td>Bad Bunny</td>\n",
       "      <td></td>\n",
       "      <td>90878445</td>\n",
       "    </tr>\n",
       "  </tbody>\n",
       "</table>\n",
       "</div>"
      ],
      "text/plain": [
       "     artist(s)_name  artist_count    streams        artist_1 other artists  \\\n",
       "0  Latto, Jung Kook             2  141381703           Latto     Jung Kook   \n",
       "1       Myke Towers             1  133716286     Myke Towers                 \n",
       "2    Olivia Rodrigo             1  140003974  Olivia Rodrigo                 \n",
       "3      Taylor Swift             1  800840817    Taylor Swift                 \n",
       "4         Bad Bunny             1  303236322       Bad Bunny                 \n",
       "\n",
       "   spotify_followers_1_feb25  \n",
       "0                    1932096  \n",
       "1                   18689633  \n",
       "2                   43692709  \n",
       "3                  132360746  \n",
       "4                   90878445  "
      ]
     },
     "execution_count": 170,
     "metadata": {},
     "output_type": "execute_result"
    }
   ],
   "source": [
    "df['spotify_followers_1_feb25']=df.apply(fetch_followers, axis=1)\n",
    "df"
   ]
  },
  {
   "cell_type": "markdown",
   "metadata": {},
   "source": [
    "### c. Also get genres"
   ]
  },
  {
   "cell_type": "markdown",
   "metadata": {},
   "source": [
    "def fetch_followers(row):\n",
    "    artist_name= row['artist_1']\n",
    "    url_artist=artist_name.replace(' ','+')\n",
    "    response_artist_search = requests.get(BASE_URL + 'search?q='+url_artist+'&type=artist', headers=headers) \n",
    "    \n",
    "    if response_artist_search.status_code == 200: \n",
    "        artist_id = response_artist_search.json().get('artists')['items'][0]['id']\n",
    "        response_artist_found = requests.get(BASE_URL + 'artists/'+artist_id, headers=headers) \n",
    "        if response_artist_found.status_code == 200: \n",
    "            followers = response_artist_found.json().get('followers')['total'] \n",
    "            genres = response_artist.json().get('genres')\n",
    "            return followers\n",
    "        else:\n",
    "            return \"Error: \"+ str(response_artist_found.status_code)\n",
    "    else:\n",
    "        return \"Error: \"+ str(response_artist_search.status_code)\n",
    "\n",
    "\n",
    "fetch_followers(df.iloc[0])"
   ]
  }
 ],
 "metadata": {
  "kernelspec": {
   "display_name": "Artefact",
   "language": "python",
   "name": "python3"
  },
  "language_info": {
   "codemirror_mode": {
    "name": "ipython",
    "version": 3
   },
   "file_extension": ".py",
   "mimetype": "text/x-python",
   "name": "python",
   "nbconvert_exporter": "python",
   "pygments_lexer": "ipython3",
   "version": "3.10.12"
  }
 },
 "nbformat": 4,
 "nbformat_minor": 2
}
